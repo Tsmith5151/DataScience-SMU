{
 "cells": [
  {
   "cell_type": "markdown",
   "metadata": {},
   "source": [
    "# SQLite3 Examples in Jupyter Notebook\n",
    "\n",
    "<p>\n",
    "<img src=\"http://www.askyb.com/wp-content/uploads/2013/01/sqlite-300x149.jpg\">\n",
    "</p>\n",
    "\n",
    "- The objective of this workbook is to demonstrate examples of using Python as an interface for accessing and manipulating SQLite databases. SQLite is disk-based and does not require separare servers for processing. "
   ]
  },
  {
   "cell_type": "code",
   "execution_count": 1,
   "metadata": {
    "collapsed": false
   },
   "outputs": [],
   "source": [
    "import sys\n",
    "\n",
    "#import python libraries\n",
    "#Python 2.7.12 Anaconda \n",
    "import pandas as pd\n",
    "import csv\n",
    "\n",
    "#pythons implementation of the interface to SQLite database\n",
    "import sqlite3 \n",
    "import seaborn as sns\n",
    "%matplotlib inline"
   ]
  },
  {
   "cell_type": "markdown",
   "metadata": {},
   "source": [
    "### SQLite3"
   ]
  },
  {
   "cell_type": "code",
   "execution_count": 2,
   "metadata": {
    "collapsed": false
   },
   "outputs": [],
   "source": [
    "#connection object -- access the database; no usrname and pwrd\n",
    "conn= sqlite3.connect('./Data/customers.db') \n",
    "c = conn.cursor() #cursor object -- executes queries"
   ]
  },
  {
   "cell_type": "code",
   "execution_count": 7,
   "metadata": {
    "collapsed": false
   },
   "outputs": [
    {
     "data": {
      "text/plain": [
       "<sqlite3.Cursor at 0x116c18ab0>"
      ]
     },
     "execution_count": 7,
     "metadata": {},
     "output_type": "execute_result"
    }
   ],
   "source": [
    "#create customers table if does not exist\n",
    "c.execute('''CREATE TABLE IF NOT EXISTS customers_cur(\n",
    "            Name TEXT,\n",
    "            CustomSegment TEXT,\n",
    "            ID REAL PRIMARY KEY,\n",
    "            Address TEXT,\n",
    "            City TEXT,\n",
    "            State TEXT,\n",
    "            Zip REAL,\n",
    "            AvgSales REAL,\n",
    "            StoreNo REAL,\n",
    "            Responded TEXT,\n",
    "            AvgPurch REAL,\n",
    "            YearsCust REAL)''')"
   ]
  },
  {
   "cell_type": "code",
   "execution_count": 5,
   "metadata": {
    "collapsed": false,
    "scrolled": false
   },
   "outputs": [],
   "source": [
    "#read in data from customers.csv file into customers_cur table\n",
    "reader = csv.reader(open('./Data/customers.csv','rU'),delimiter=',')    \n",
    "next(reader) #skips the first row (i.e. header)\n",
    "for row in reader: #iterate thru each row \n",
    "    to_db = [row[0],row[1],row[2],row[3],row[4],row[5],\n",
    "            row[6],row[7],row[8],row[9],row[10],row[11]]\n",
    "    #insert each column into the table row by row\n",
    "    c.execute('''INSERT OR IGNORE INTO customers_cur (Name, CustomSegment, \n",
    "                ID, Address, City, State, Zip, AvgSales, \n",
    "                StoreNo, Responded, AvgPurch, YearsCust) \n",
    "                VALUES (?,?,?,?,?,?,?,?,?,?,?,?)''',to_db)\n",
    "conn.commit() #commit insert to database"
   ]
  },
  {
   "cell_type": "code",
   "execution_count": 9,
   "metadata": {
    "collapsed": false,
    "scrolled": false
   },
   "outputs": [
    {
     "name": "stdout",
     "output_type": "stream",
     "text": [
      "('Pamela Wright', 'Store Mailing List', 2.0, '376 S Jasmine St', 'Denver', 'CO', 80224.0, 227.9, 100.0, 'No', 1.0, 6.0)\n",
      "('Danell Valdez', 'Store Mailing List', 7.0, '12066 E Lake Cir', 'Greenwood Village', 'CO', 80111.0, 55.0, 105.0, 'Yes', 1.0, 6.0)\n",
      "('Jessica Rinehart', 'Store Mailing List', 8.0, '7225 S Gaylord St', 'Centennial', 'CO', 80122.0, 212.57, 101.0, 'No', 1.0, 3.0)\n",
      "('Nancy Clark', 'Store Mailing List', 9.0, '4497 Cornish Way', 'Denver', 'CO', 80239.0, 195.31, 105.0, 'Yes', 1.0, 6.0)\n",
      "('Andrea Brun', 'Store Mailing List', 10.0, '2316 E 5th Ave', 'Denver', 'CO', 80206.0, 110.55, 100.0, 'Yes', 1.0, 2.0)\n"
     ]
    }
   ],
   "source": [
    "#Select all from customs_cur\n",
    "c.execute(\"SELECT * FROM customers_cur LIMIT 5\")\n",
    "for row in c.fetchall(): #loop thru and print each row\n",
    "    print(row)"
   ]
  },
  {
   "cell_type": "code",
   "execution_count": 7,
   "metadata": {
    "collapsed": false
   },
   "outputs": [
    {
     "name": "stdout",
     "output_type": "stream",
     "text": [
      "(u'Pamela Wright', u'Denver', u'CO')\n",
      "(u'Danell Valdez', u'Greenwood Village', u'CO')\n",
      "(u'Jessica Rinehart', u'Centennial', u'CO')\n",
      "(u'Nancy Clark', u'Denver', u'CO')\n",
      "(u'Andrea Brun', u'Denver', u'CO')\n"
     ]
    }
   ],
   "source": [
    "#Return only name city and state \n",
    "c.execute(\"SELECT Name,City,State FROM customers_cur LIMIT 5\") #limit by first 5 rows\n",
    "for row in c.fetchall():\n",
    "    print row"
   ]
  },
  {
   "cell_type": "code",
   "execution_count": 8,
   "metadata": {
    "collapsed": false
   },
   "outputs": [
    {
     "name": "stdout",
     "output_type": "stream",
     "text": [
      "(u'Credit Card Only', 337243.39999999973)\n",
      "(u'Loyalty Club', 175.5)\n",
      "(u'Loyalty Club Only', 229476.55999999985)\n",
      "(u'Loyalty Club and Credit Card', 208386.93999999994)\n",
      "(u'Store Mailing List', 174356.56999999992)\n"
     ]
    }
   ],
   "source": [
    "#Query for total sales per each customer segment\n",
    "t=('CustomSegment',)\n",
    "c.execute('''SELECT CustomSegment, SUM(AvgSales) FROM customers_cur\n",
    "        GROUP BY CustomSegment''')\n",
    "for row in c.fetchall():\n",
    "    print row"
   ]
  },
  {
   "cell_type": "code",
   "execution_count": 9,
   "metadata": {
    "collapsed": false
   },
   "outputs": [
    {
     "data": {
      "text/plain": [
       "(array([0, 1, 2, 3, 4]), <a list of 5 Text xticklabel objects>)"
      ]
     },
     "execution_count": 9,
     "metadata": {},
     "output_type": "execute_result"
    },
    {
     "data": {
      "image/png": "[encoded data removed]",
      "text/plain": [
       "<matplotlib.figure.Figure at 0x117842710>"
      ]
     },
     "metadata": {},
     "output_type": "display_data"
    }
   ],
   "source": [
    "# read query into pandas dataframe \n",
    "df= pd.read_sql_query('''SELECT CustomSegment, SUM(AvgSales) FROM customers_cur\n",
    "        GROUP BY CustomSegment''',conn)\n",
    "#rename columns\n",
    "df.columns=['CustomerSegment','AvgSales']\n",
    "\n",
    "#plot the average sales per customer segment \n",
    "sns.plt.figure(figsize=(8,6)) #resize figure\n",
    "sns.barplot(y='AvgSales',x='CustomerSegment',data=df,alpha=0.90) #create barplot\n",
    "sns.plt.title('Average Sales per Customer Segment',fontsize=18) #add title\n",
    "sns.plt.xticks(rotation=30) #rotate axis"
   ]
  },
  {
   "cell_type": "code",
   "execution_count": 10,
   "metadata": {
    "collapsed": false
   },
   "outputs": [],
   "source": [
    "#intert new customer into database\n",
    "def add_cust(name,dbname=\"./Data/customers.db\"):\n",
    "    conn = sqlite3.connect(dbname) #connect to db\n",
    "    c = conn.cursor() # create cursor object\n",
    "    #insert new customer into table\n",
    "    c.execute('''INSERT OR IGNORE INTO customers_cur VALUES(?,?,?,?,?,?,?,?,?,?,?,?)''',name)\n",
    "    conn.commit() #commit insert\n",
    "    conn.close() #close connection\n",
    "\n",
    "if __name__==\"__main__\":\n",
    "    name = tuple((\"T Smith\",\"Loyalty Club\",5151,\"920 Prescott\",\"Denver\",\"CO\",80235,\n",
    "        175.5,103,\"Yes\",3,2),)\n",
    "    add_cust(name) #call add_cust function"
   ]
  },
  {
   "cell_type": "code",
   "execution_count": 11,
   "metadata": {
    "collapsed": false
   },
   "outputs": [
    {
     "name": "stdout",
     "output_type": "stream",
     "text": [
      "(u'T Smith', u'Denver', u'CO', 80235.0, u'Loyalty Club')\n"
     ]
    }
   ],
   "source": [
    "#Check is new customer was added to database\n",
    "def check_add_cust(name_cust,dbname=\"./Data/customers.db\"):\n",
    "    conn = sqlite3.connect(dbname) #connect to db\n",
    "    c = conn.cursor() #create cursor object\n",
    "    #check if customer was added to the table in the customers.db\n",
    "    c.execute('''SELECT Name, City, State, Zip, CustomSegment FROM customers_cur WHERE NAME=(?)''', name_cust)\n",
    "    print c.fetchone() #print query\n",
    "    \n",
    "name_cust = (\"T Smith\",) \n",
    "check_add_cust(name_cust)"
   ]
  },
  {
   "cell_type": "code",
   "execution_count": null,
   "metadata": {
    "collapsed": false
   },
   "outputs": [],
   "source": [
    "# query for the higher end customers (total sales)\n",
    "def get_highend_customers_sales(amount,cust_type,dbname=\"./Data/customers.db\"):\n",
    "    conn = sqlite3.connect(dbname)\n",
    "    c = conn.cursor()\n",
    "    cust = (cust_type,)\n",
    "    query = [x for x in c.execute('''SELECT CustomSegment, AvgSales FROM customers_cur \n",
    "                WHERE CustomSegment=(?)''',cust)]\n",
    "    count = sum([1 for x in query if x[1]>=amount])\n",
    "    print \"Customer Segment: %s\" % cust_type\n",
    "    print \"Total Avg. Sales greater than $%sk: %s customers\" % (amount,count)\n",
    "    \n",
    "try:\n",
    "    cust_type = raw_input(\"Customer Type:\")\n",
    "    if cust_type in [\"Store Mailing List\", \"Credit Card Only\",\n",
    "        \"Loyalty Club Only\",\"Loyalty Club and Credit Card\"]:\n",
    "        get_highend_customers_sales(100,cust_type)\n",
    "except:\n",
    "    print \"Not a valid customer segment\""
   ]
  },
  {
   "cell_type": "markdown",
   "metadata": {},
   "source": [
    "### Random Sample of Basic Query "
   ]
  },
  {
   "cell_type": "code",
   "execution_count": 16,
   "metadata": {
    "collapsed": false
   },
   "outputs": [],
   "source": [
    "def get_random_sample(db='./Data/customers.db'):\n",
    "    conn = sqlite3.connect(db)\n",
    "    c = conn.cursor()\n",
    "    #Query for total sales per each customer segment\n",
    "    c.execute('''SELECT * FROM customers_cur ORDER BY RANDOM() LIMIT 5''')\n",
    "    for row in c.fetchall():\n",
    "        print(row)"
   ]
  },
  {
   "cell_type": "code",
   "execution_count": 17,
   "metadata": {
    "collapsed": false
   },
   "outputs": [
    {
     "name": "stdout",
     "output_type": "stream",
     "text": [
      "('Gina Einspahr', 'Store Mailing List', 966.0, '3961 S Carson St', 'Aurora', 'CO', 80014.0, 234.31, 104.0, 'No', 1.0, 3.0)\n",
      "('Janice Neff', 'Store Mailing List', 1749.0, '1292 S Olathe Way', 'Aurora', 'CO', 80017.0, 184.2, 100.0, 'No', 3.0, 6.0)\n",
      "('Karen Crigler', 'Store Mailing List', 2103.0, '17221 E Walsh Way', 'Aurora', 'CO', 80017.0, 192.04, 105.0, 'No', 2.0, 6.0)\n",
      "('Susan Bobka', 'Store Mailing List', 2314.0, '7435 S Jackson Gap Way', 'Aurora', 'CO', 80016.0, 218.93, 104.0, 'No', 1.0, 1.0)\n",
      "('Alesha Borne', 'Loyalty Club Only', 1016.0, '15358 E Saratoga Pl', 'Aurora', 'CO', 80015.0, 339.99, 104.0, 'No', 4.0, 1.0)\n"
     ]
    }
   ],
   "source": [
    "get_random_sample(db='./Data/customers.db')"
   ]
  }
 ],
 "metadata": {
  "anaconda-cloud": {},
  "kernelspec": {
   "display_name": "Python [conda root]",
   "language": "python",
   "name": "conda-root-py"
  },
  "language_info": {
   "codemirror_mode": {
    "name": "ipython",
    "version": 3
   },
   "file_extension": ".py",
   "mimetype": "text/x-python",
   "name": "python",
   "nbconvert_exporter": "python",
   "pygments_lexer": "ipython3",
   "version": "3.5.2"
  }
 },
 "nbformat": 4,
 "nbformat_minor": 1
}
