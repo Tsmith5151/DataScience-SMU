{
 "cells": [
  {
   "cell_type": "markdown",
   "metadata": {},
   "source": [
    "# Case Study 1\n",
    "\n",
    "**Analysis #1: Merging Data Set**"
   ]
  },
  {
   "cell_type": "markdown",
   "metadata": {},
   "source": [
    "### Load R Library"
   ]
  },
  {
   "cell_type": "code",
   "execution_count": 17,
   "metadata": {
    "collapsed": true
   },
   "outputs": [],
   "source": [
    "library(plyr)\n",
    "library(ggplot2)"
   ]
  },
  {
   "cell_type": "markdown",
   "metadata": {},
   "source": [
    "### Fedstats Dataset"
   ]
  },
  {
   "cell_type": "code",
   "execution_count": 2,
   "metadata": {
    "collapsed": false
   },
   "outputs": [
    {
     "name": "stdout",
     "output_type": "stream",
     "text": [
      "[1] \"Column Names of fedstats.raw Dataset\"\n"
     ]
    },
    {
     "data": {
      "text/html": [
       "<ol class=list-inline>\n",
       "\t<li>'CountryCode'</li>\n",
       "\t<li>'Long.Name'</li>\n",
       "\t<li>'Income.Group'</li>\n",
       "\t<li>'Region'</li>\n",
       "\t<li>'Lending.category'</li>\n",
       "\t<li>'Other.groups'</li>\n",
       "\t<li>'Currency.Unit'</li>\n",
       "\t<li>'Latest.population.census'</li>\n",
       "\t<li>'Latest.household.survey'</li>\n",
       "\t<li>'Special.Notes'</li>\n",
       "\t<li>'National.accounts.base.year'</li>\n",
       "\t<li>'National.accounts.reference.year'</li>\n",
       "\t<li>'System.of.National.Accounts'</li>\n",
       "\t<li>'SNA.price.valuation'</li>\n",
       "\t<li>'Alternative.conversion.factor'</li>\n",
       "\t<li>'PPP.survey.year'</li>\n",
       "\t<li>'Balance.of.Payments.Manual.in.use'</li>\n",
       "\t<li>'External.debt.Reporting.status'</li>\n",
       "\t<li>'System.of.trade'</li>\n",
       "\t<li>'Government.Accounting.concept'</li>\n",
       "\t<li>'IMF.data.dissemination.standard'</li>\n",
       "\t<li>'Source.of.most.recent.Income.and.expenditure.data'</li>\n",
       "\t<li>'Vital.registration.complete'</li>\n",
       "\t<li>'Latest.agricultural.census'</li>\n",
       "\t<li>'Latest.industrial.data'</li>\n",
       "\t<li>'Latest.trade.data'</li>\n",
       "\t<li>'Latest.water.withdrawal.data'</li>\n",
       "\t<li>'X2.alpha.code'</li>\n",
       "\t<li>'WB.2.code'</li>\n",
       "\t<li>'Table.Name'</li>\n",
       "\t<li>'Short.Name'</li>\n",
       "</ol>\n"
      ],
      "text/latex": [
       "\\begin{enumerate*}\n",
       "\\item 'CountryCode'\n",
       "\\item 'Long.Name'\n",
       "\\item 'Income.Group'\n",
       "\\item 'Region'\n",
       "\\item 'Lending.category'\n",
       "\\item 'Other.groups'\n",
       "\\item 'Currency.Unit'\n",
       "\\item 'Latest.population.census'\n",
       "\\item 'Latest.household.survey'\n",
       "\\item 'Special.Notes'\n",
       "\\item 'National.accounts.base.year'\n",
       "\\item 'National.accounts.reference.year'\n",
       "\\item 'System.of.National.Accounts'\n",
       "\\item 'SNA.price.valuation'\n",
       "\\item 'Alternative.conversion.factor'\n",
       "\\item 'PPP.survey.year'\n",
       "\\item 'Balance.of.Payments.Manual.in.use'\n",
       "\\item 'External.debt.Reporting.status'\n",
       "\\item 'System.of.trade'\n",
       "\\item 'Government.Accounting.concept'\n",
       "\\item 'IMF.data.dissemination.standard'\n",
       "\\item 'Source.of.most.recent.Income.and.expenditure.data'\n",
       "\\item 'Vital.registration.complete'\n",
       "\\item 'Latest.agricultural.census'\n",
       "\\item 'Latest.industrial.data'\n",
       "\\item 'Latest.trade.data'\n",
       "\\item 'Latest.water.withdrawal.data'\n",
       "\\item 'X2.alpha.code'\n",
       "\\item 'WB.2.code'\n",
       "\\item 'Table.Name'\n",
       "\\item 'Short.Name'\n",
       "\\end{enumerate*}\n"
      ],
      "text/markdown": [
       "1. 'CountryCode'\n",
       "2. 'Long.Name'\n",
       "3. 'Income.Group'\n",
       "4. 'Region'\n",
       "5. 'Lending.category'\n",
       "6. 'Other.groups'\n",
       "7. 'Currency.Unit'\n",
       "8. 'Latest.population.census'\n",
       "9. 'Latest.household.survey'\n",
       "10. 'Special.Notes'\n",
       "11. 'National.accounts.base.year'\n",
       "12. 'National.accounts.reference.year'\n",
       "13. 'System.of.National.Accounts'\n",
       "14. 'SNA.price.valuation'\n",
       "15. 'Alternative.conversion.factor'\n",
       "16. 'PPP.survey.year'\n",
       "17. 'Balance.of.Payments.Manual.in.use'\n",
       "18. 'External.debt.Reporting.status'\n",
       "19. 'System.of.trade'\n",
       "20. 'Government.Accounting.concept'\n",
       "21. 'IMF.data.dissemination.standard'\n",
       "22. 'Source.of.most.recent.Income.and.expenditure.data'\n",
       "23. 'Vital.registration.complete'\n",
       "24. 'Latest.agricultural.census'\n",
       "25. 'Latest.industrial.data'\n",
       "26. 'Latest.trade.data'\n",
       "27. 'Latest.water.withdrawal.data'\n",
       "28. 'X2.alpha.code'\n",
       "29. 'WB.2.code'\n",
       "30. 'Table.Name'\n",
       "31. 'Short.Name'\n",
       "\n",
       "\n"
      ],
      "text/plain": [
       " [1] \"CountryCode\"                                      \n",
       " [2] \"Long.Name\"                                        \n",
       " [3] \"Income.Group\"                                     \n",
       " [4] \"Region\"                                           \n",
       " [5] \"Lending.category\"                                 \n",
       " [6] \"Other.groups\"                                     \n",
       " [7] \"Currency.Unit\"                                    \n",
       " [8] \"Latest.population.census\"                         \n",
       " [9] \"Latest.household.survey\"                          \n",
       "[10] \"Special.Notes\"                                    \n",
       "[11] \"National.accounts.base.year\"                      \n",
       "[12] \"National.accounts.reference.year\"                 \n",
       "[13] \"System.of.National.Accounts\"                      \n",
       "[14] \"SNA.price.valuation\"                              \n",
       "[15] \"Alternative.conversion.factor\"                    \n",
       "[16] \"PPP.survey.year\"                                  \n",
       "[17] \"Balance.of.Payments.Manual.in.use\"                \n",
       "[18] \"External.debt.Reporting.status\"                   \n",
       "[19] \"System.of.trade\"                                  \n",
       "[20] \"Government.Accounting.concept\"                    \n",
       "[21] \"IMF.data.dissemination.standard\"                  \n",
       "[22] \"Source.of.most.recent.Income.and.expenditure.data\"\n",
       "[23] \"Vital.registration.complete\"                      \n",
       "[24] \"Latest.agricultural.census\"                       \n",
       "[25] \"Latest.industrial.data\"                           \n",
       "[26] \"Latest.trade.data\"                                \n",
       "[27] \"Latest.water.withdrawal.data\"                     \n",
       "[28] \"X2.alpha.code\"                                    \n",
       "[29] \"WB.2.code\"                                        \n",
       "[30] \"Table.Name\"                                       \n",
       "[31] \"Short.Name\"                                       "
      ]
     },
     "metadata": {},
     "output_type": "display_data"
    },
    {
     "data": {
      "text/html": [
       "<ol class=list-inline>\n",
       "\t<li>234</li>\n",
       "\t<li>31</li>\n",
       "</ol>\n"
      ],
      "text/latex": [
       "\\begin{enumerate*}\n",
       "\\item 234\n",
       "\\item 31\n",
       "\\end{enumerate*}\n"
      ],
      "text/markdown": [
       "1. 234\n",
       "2. 31\n",
       "\n",
       "\n"
      ],
      "text/plain": [
       "[1] 234  31"
      ]
     },
     "metadata": {},
     "output_type": "display_data"
    }
   ],
   "source": [
    "#Load FEDSTATS Dataset\n",
    "fedstats.raw <- read.csv(\"../Data/FEDSTATS_Country.csv\",header=TRUE)\n",
    "\n",
    "#Names of Columns\n",
    "print(\"Column Names of fedstats.raw Dataset\")\n",
    "names(fedstats.raw)\n",
    "\n",
    "#Dimensions\n",
    "dim(fedstats.raw)\n",
    "\n",
    "#Create New DataFrame From Raw\n",
    "fedstats<-fedstats.raw"
   ]
  },
  {
   "cell_type": "code",
   "execution_count": 3,
   "metadata": {
    "collapsed": false,
    "scrolled": false
   },
   "outputs": [
    {
     "data": {
      "text/html": [
       "<table>\n",
       "<thead><tr><th scope=col>CountryCode</th><th scope=col>Long.Name</th><th scope=col>Income.Group</th><th scope=col>Region</th><th scope=col>Lending.category</th><th scope=col>Other.groups</th><th scope=col>Currency.Unit</th><th scope=col>Latest.population.census</th><th scope=col>Latest.household.survey</th><th scope=col>Special.Notes</th><th scope=col>⋯</th><th scope=col>Source.of.most.recent.Income.and.expenditure.data</th><th scope=col>Vital.registration.complete</th><th scope=col>Latest.agricultural.census</th><th scope=col>Latest.industrial.data</th><th scope=col>Latest.trade.data</th><th scope=col>Latest.water.withdrawal.data</th><th scope=col>X2.alpha.code</th><th scope=col>WB.2.code</th><th scope=col>Table.Name</th><th scope=col>Short.Name</th></tr></thead>\n",
       "<tbody>\n",
       "\t<tr><td>ABW                                                                                                                </td><td><span style=white-space:pre-wrap>Aruba                       </span>                                               </td><td>High income: nonOECD                                                                                               </td><td>Latin America &amp; Caribbean                                                                                      </td><td><span style=white-space:pre-wrap>    </span>                                                                       </td><td><span style=white-space:pre-wrap>    </span>                                                                       </td><td>Aruban florin                                                                                                      </td><td><span style=white-space:pre-wrap>2000          </span>                                                             </td><td><span style=white-space:pre-wrap>                        </span>                                                   </td><td><span style=white-space:pre-wrap>                                                                           </span></td><td>⋯                                                                                                                  </td><td><span style=white-space:pre-wrap>          </span>                                                                 </td><td><span style=white-space:pre-wrap>   </span>                                                                        </td><td><span style=white-space:pre-wrap>       </span>                                                                    </td><td><span style=white-space:pre-wrap>  NA</span>                                                                       </td><td>2008                                                                                                               </td><td><span style=white-space:pre-wrap>  NA</span>                                                                       </td><td>AW                                                                                                                 </td><td>AW                                                                                                                 </td><td><span style=white-space:pre-wrap>Aruba      </span>                                                                </td><td><span style=white-space:pre-wrap>Aruba      </span>                                                                </td></tr>\n",
       "\t<tr><td>ADO                                                                                                                </td><td><span style=white-space:pre-wrap>Principality of Andorra     </span>                                               </td><td>High income: nonOECD                                                                                               </td><td><span style=white-space:pre-wrap>Europe &amp; Central Asia    </span>                                              </td><td><span style=white-space:pre-wrap>    </span>                                                                       </td><td><span style=white-space:pre-wrap>    </span>                                                                       </td><td><span style=white-space:pre-wrap>Euro          </span>                                                             </td><td>Register based                                                                                                     </td><td><span style=white-space:pre-wrap>                        </span>                                                   </td><td><span style=white-space:pre-wrap>                                                                           </span></td><td>⋯                                                                                                                  </td><td><span style=white-space:pre-wrap>          </span>                                                                 </td><td>Yes                                                                                                                </td><td><span style=white-space:pre-wrap>       </span>                                                                    </td><td><span style=white-space:pre-wrap>  NA</span>                                                                       </td><td>2006                                                                                                               </td><td><span style=white-space:pre-wrap>  NA</span>                                                                       </td><td>AD                                                                                                                 </td><td>AD                                                                                                                 </td><td><span style=white-space:pre-wrap>Andorra    </span>                                                                </td><td><span style=white-space:pre-wrap>Andorra    </span>                                                                </td></tr>\n",
       "\t<tr><td>AFG                                                                        </td><td>Islamic State of Afghanistan                                               </td><td>Low income                                                                 </td><td>South Asia                                                                 </td><td>IDA                                                                        </td><td>HIPC                                                                       </td><td>Afghan afghani                                                             </td><td>1979                                                                       </td><td>MICS, 2003                                                                 </td><td>Fiscal year end: March 20; reporting period for national accounts data: FY.</td><td>⋯                                                                          </td><td>                                                                           </td><td>                                                                           </td><td>                                                                           </td><td>  NA                                                                       </td><td>2008                                                                       </td><td>2000                                                                       </td><td>AF                                                                         </td><td>AF                                                                         </td><td>Afghanistan                                                                </td><td>Afghanistan                                                                </td></tr>\n",
       "\t<tr><td>AGO                                                                        </td><td>People's Republic of Angola                                                </td><td>Lower middle income                                                        </td><td>Sub-Saharan Africa                                                         </td><td>IDA                                                                        </td><td>                                                                           </td><td>Angolan kwanza                                                             </td><td>1970                                                                       </td><td>MICS, 2001, MIS, 2006/07                                                   </td><td>                                                                           </td><td>⋯                                                                          </td><td>IHS, 2000                                                                  </td><td>                                                                           </td><td>1964-65                                                                    </td><td>  NA                                                                       </td><td>1991                                                                       </td><td>2000                                                                       </td><td>AO                                                                         </td><td>AO                                                                         </td><td>Angola                                                                     </td><td>Angola                                                                     </td></tr>\n",
       "\t<tr><td>ALB                                                                                                                </td><td><span style=white-space:pre-wrap>Republic of Albania         </span>                                               </td><td>Upper middle income                                                                                                </td><td><span style=white-space:pre-wrap>Europe &amp; Central Asia    </span>                                              </td><td>IBRD                                                                                                               </td><td><span style=white-space:pre-wrap>    </span>                                                                       </td><td><span style=white-space:pre-wrap>Albanian lek  </span>                                                             </td><td><span style=white-space:pre-wrap>2001          </span>                                                             </td><td><span style=white-space:pre-wrap>MICS, 2005              </span>                                                   </td><td><span style=white-space:pre-wrap>                                                                           </span></td><td>⋯                                                                                                                  </td><td>LSMS, 2005                                                                                                         </td><td>Yes                                                                                                                </td><td><span style=white-space:pre-wrap>1998   </span>                                                                    </td><td>2005                                                                                                               </td><td>2008                                                                                                               </td><td>2000                                                                                                               </td><td>AL                                                                                                                 </td><td>AL                                                                                                                 </td><td><span style=white-space:pre-wrap>Albania    </span>                                                                </td><td><span style=white-space:pre-wrap>Albania    </span>                                                                </td></tr>\n",
       "</tbody>\n",
       "</table>\n"
      ],
      "text/latex": [
       "\\begin{tabular}{r|lllllllllllllllllllllllllllllll}\n",
       " CountryCode & Long.Name & Income.Group & Region & Lending.category & Other.groups & Currency.Unit & Latest.population.census & Latest.household.survey & Special.Notes & ⋯ & Source.of.most.recent.Income.and.expenditure.data & Vital.registration.complete & Latest.agricultural.census & Latest.industrial.data & Latest.trade.data & Latest.water.withdrawal.data & X2.alpha.code & WB.2.code & Table.Name & Short.Name\\\\\n",
       "\\hline\n",
       "\t ABW                                                                         & Aruba                                                                       & High income: nonOECD                                                        & Latin America \\& Caribbean                                                 &                                                                             &                                                                             & Aruban florin                                                               & 2000                                                                        &                                                                             &                                                                             & ⋯                                                                           &                                                                             &                                                                             &                                                                             &   NA                                                                        & 2008                                                                        &   NA                                                                        & AW                                                                          & AW                                                                          & Aruba                                                                       & Aruba                                                                      \\\\\n",
       "\t ADO                                                                         & Principality of Andorra                                                     & High income: nonOECD                                                        & Europe \\& Central Asia                                                     &                                                                             &                                                                             & Euro                                                                        & Register based                                                              &                                                                             &                                                                             & ⋯                                                                           &                                                                             & Yes                                                                         &                                                                             &   NA                                                                        & 2006                                                                        &   NA                                                                        & AD                                                                          & AD                                                                          & Andorra                                                                     & Andorra                                                                    \\\\\n",
       "\t AFG                                                                         & Islamic State of Afghanistan                                                & Low income                                                                  & South Asia                                                                  & IDA                                                                         & HIPC                                                                        & Afghan afghani                                                              & 1979                                                                        & MICS, 2003                                                                  & Fiscal year end: March 20; reporting period for national accounts data: FY. & ⋯                                                                           &                                                                             &                                                                             &                                                                             &   NA                                                                        & 2008                                                                        & 2000                                                                        & AF                                                                          & AF                                                                          & Afghanistan                                                                 & Afghanistan                                                                \\\\\n",
       "\t AGO                                                                         & People's Republic of Angola                                                 & Lower middle income                                                         & Sub-Saharan Africa                                                          & IDA                                                                         &                                                                             & Angolan kwanza                                                              & 1970                                                                        & MICS, 2001, MIS, 2006/07                                                    &                                                                             & ⋯                                                                           & IHS, 2000                                                                   &                                                                             & 1964-65                                                                     &   NA                                                                        & 1991                                                                        & 2000                                                                        & AO                                                                          & AO                                                                          & Angola                                                                      & Angola                                                                     \\\\\n",
       "\t ALB                                                                         & Republic of Albania                                                         & Upper middle income                                                         & Europe \\& Central Asia                                                     & IBRD                                                                        &                                                                             & Albanian lek                                                                & 2001                                                                        & MICS, 2005                                                                  &                                                                             & ⋯                                                                           & LSMS, 2005                                                                  & Yes                                                                         & 1998                                                                        & 2005                                                                        & 2008                                                                        & 2000                                                                        & AL                                                                          & AL                                                                          & Albania                                                                     & Albania                                                                    \\\\\n",
       "\\end{tabular}\n"
      ],
      "text/plain": [
       "  CountryCode Long.Name                    Income.Group        \n",
       "1 ABW         Aruba                        High income: nonOECD\n",
       "2 ADO         Principality of Andorra      High income: nonOECD\n",
       "3 AFG         Islamic State of Afghanistan Low income          \n",
       "4 AGO         People's Republic of Angola  Lower middle income \n",
       "5 ALB         Republic of Albania          Upper middle income \n",
       "  Region                    Lending.category Other.groups Currency.Unit \n",
       "1 Latin America & Caribbean                               Aruban florin \n",
       "2 Europe & Central Asia                                   Euro          \n",
       "3 South Asia                IDA              HIPC         Afghan afghani\n",
       "4 Sub-Saharan Africa        IDA                           Angolan kwanza\n",
       "5 Europe & Central Asia     IBRD                          Albanian lek  \n",
       "  Latest.population.census Latest.household.survey \n",
       "1 2000                                             \n",
       "2 Register based                                   \n",
       "3 1979                     MICS, 2003              \n",
       "4 1970                     MICS, 2001, MIS, 2006/07\n",
       "5 2001                     MICS, 2005              \n",
       "  Special.Notes                                                               ⋯\n",
       "1                                                                             ⋯\n",
       "2                                                                             ⋯\n",
       "3 Fiscal year end: March 20; reporting period for national accounts data: FY. ⋯\n",
       "4                                                                             ⋯\n",
       "5                                                                             ⋯\n",
       "  Source.of.most.recent.Income.and.expenditure.data Vital.registration.complete\n",
       "1                                                                              \n",
       "2                                                   Yes                        \n",
       "3                                                                              \n",
       "4 IHS, 2000                                                                    \n",
       "5 LSMS, 2005                                        Yes                        \n",
       "  Latest.agricultural.census Latest.industrial.data Latest.trade.data\n",
       "1                              NA                   2008             \n",
       "2                              NA                   2006             \n",
       "3                              NA                   2008             \n",
       "4 1964-65                      NA                   1991             \n",
       "5 1998                       2005                   2008             \n",
       "  Latest.water.withdrawal.data X2.alpha.code WB.2.code Table.Name  Short.Name \n",
       "1   NA                         AW            AW        Aruba       Aruba      \n",
       "2   NA                         AD            AD        Andorra     Andorra    \n",
       "3 2000                         AF            AF        Afghanistan Afghanistan\n",
       "4 2000                         AO            AO        Angola      Angola     \n",
       "5 2000                         AL            AL        Albania     Albania    "
      ]
     },
     "metadata": {},
     "output_type": "display_data"
    }
   ],
   "source": [
    "head(fedstats,5)"
   ]
  },
  {
   "cell_type": "markdown",
   "metadata": {},
   "source": [
    "### GDP Dataset"
   ]
  },
  {
   "cell_type": "code",
   "execution_count": 4,
   "metadata": {
    "collapsed": false
   },
   "outputs": [
    {
     "name": "stdout",
     "output_type": "stream",
     "text": [
      "[1] \"Column Names of gdp.raw Dataset\"\n"
     ]
    },
    {
     "data": {
      "text/html": [
       "<ol class=list-inline>\n",
       "\t<li>'X'</li>\n",
       "\t<li>'Ranking'</li>\n",
       "\t<li>'X.1'</li>\n",
       "\t<li>'Economy'</li>\n",
       "\t<li>'US.dollars.'</li>\n",
       "\t<li>'X.2'</li>\n",
       "\t<li>'X.3'</li>\n",
       "\t<li>'X.4'</li>\n",
       "\t<li>'X.5'</li>\n",
       "\t<li>'X.6'</li>\n",
       "</ol>\n"
      ],
      "text/latex": [
       "\\begin{enumerate*}\n",
       "\\item 'X'\n",
       "\\item 'Ranking'\n",
       "\\item 'X.1'\n",
       "\\item 'Economy'\n",
       "\\item 'US.dollars.'\n",
       "\\item 'X.2'\n",
       "\\item 'X.3'\n",
       "\\item 'X.4'\n",
       "\\item 'X.5'\n",
       "\\item 'X.6'\n",
       "\\end{enumerate*}\n"
      ],
      "text/markdown": [
       "1. 'X'\n",
       "2. 'Ranking'\n",
       "3. 'X.1'\n",
       "4. 'Economy'\n",
       "5. 'US.dollars.'\n",
       "6. 'X.2'\n",
       "7. 'X.3'\n",
       "8. 'X.4'\n",
       "9. 'X.5'\n",
       "10. 'X.6'\n",
       "\n",
       "\n"
      ],
      "text/plain": [
       " [1] \"X\"           \"Ranking\"     \"X.1\"         \"Economy\"     \"US.dollars.\"\n",
       " [6] \"X.2\"         \"X.3\"         \"X.4\"         \"X.5\"         \"X.6\"        "
      ]
     },
     "metadata": {},
     "output_type": "display_data"
    },
    {
     "name": "stdout",
     "output_type": "stream",
     "text": [
      "[1] \"Total Dimensions: Rows,Columns:\"\n"
     ]
    },
    {
     "data": {
      "text/html": [
       "<ol class=list-inline>\n",
       "\t<li>327</li>\n",
       "\t<li>10</li>\n",
       "</ol>\n"
      ],
      "text/latex": [
       "\\begin{enumerate*}\n",
       "\\item 327\n",
       "\\item 10\n",
       "\\end{enumerate*}\n"
      ],
      "text/markdown": [
       "1. 327\n",
       "2. 10\n",
       "\n",
       "\n"
      ],
      "text/plain": [
       "[1] 327  10"
      ]
     },
     "metadata": {},
     "output_type": "display_data"
    }
   ],
   "source": [
    "#Load Data GDP Dataset\n",
    "gdp.raw <- read.csv(\"../Data/FGDP.csv\",header=TRUE,skip=3)\n",
    "\n",
    "#Names of Columns\n",
    "print(\"Column Names of gdp.raw Dataset\")\n",
    "names(gdp.raw)\n",
    "\n",
    "#Dimensions\n",
    "print(\"Total Dimensions: Rows,Columns:\")\n",
    "dim(gdp.raw)"
   ]
  },
  {
   "cell_type": "code",
   "execution_count": 37,
   "metadata": {
    "collapsed": false,
    "scrolled": false
   },
   "outputs": [],
   "source": [
    "#Assign Raw Data to \"gdp\"\n",
    "gdp <-gdp.raw\n",
    "\n",
    "#Drop Columns\n",
    "gdp[6:10] <-NULL\n",
    "gdp[[3]] <- NULL\n",
    "\n",
    "#Select Certain row and all columns\n",
    "gdp<-gdp[(2:216),]\n",
    "\n",
    "#Rename Column\n",
    "colnames(gdp)[1] <- \"CountryCode\"\n",
    "colnames(gdp)[4] <- \"GDP\"\n",
    "\n",
    "#Change Data Type to Numeric\n",
    "gdp$GDP <- as.numeric(gsub(\"[^[:digit:]]\",\"\", gdp$GDP))\n",
    "gdp$Rank <- as.numeric(gsub(\"[^[:digit:]]\",\"\", gdp$Ranking))"
   ]
  },
  {
   "cell_type": "code",
   "execution_count": 38,
   "metadata": {
    "collapsed": false
   },
   "outputs": [
    {
     "data": {
      "text/html": [
       "<table>\n",
       "<thead><tr><th></th><th scope=col>CountryCode</th><th scope=col>Ranking</th><th scope=col>Economy</th><th scope=col>GDP</th><th scope=col>Rank</th></tr></thead>\n",
       "<tbody>\n",
       "\t<tr><th scope=row>2</th><td>USA          </td><td>1            </td><td>United States</td><td>16244600     </td><td>1            </td></tr>\n",
       "\t<tr><th scope=row>3</th><td>CHN          </td><td>2            </td><td>China        </td><td> 8227103     </td><td>2            </td></tr>\n",
       "\t<tr><th scope=row>4</th><td>JPN          </td><td>3            </td><td>Japan        </td><td> 5959718     </td><td>3            </td></tr>\n",
       "\t<tr><th scope=row>5</th><td>DEU          </td><td>4            </td><td>Germany      </td><td> 3428131     </td><td>4            </td></tr>\n",
       "\t<tr><th scope=row>6</th><td>FRA          </td><td>5            </td><td>France       </td><td> 2612878     </td><td>5            </td></tr>\n",
       "</tbody>\n",
       "</table>\n"
      ],
      "text/latex": [
       "\\begin{tabular}{r|lllll}\n",
       "  & CountryCode & Ranking & Economy & GDP & Rank\\\\\n",
       "\\hline\n",
       "\t2 & USA           & 1             & United States & 16244600      & 1            \\\\\n",
       "\t3 & CHN           & 2             & China         &  8227103      & 2            \\\\\n",
       "\t4 & JPN           & 3             & Japan         &  5959718      & 3            \\\\\n",
       "\t5 & DEU           & 4             & Germany       &  3428131      & 4            \\\\\n",
       "\t6 & FRA           & 5             & France        &  2612878      & 5            \\\\\n",
       "\\end{tabular}\n"
      ],
      "text/plain": [
       "  CountryCode Ranking Economy       GDP      Rank\n",
       "2 USA         1       United States 16244600 1   \n",
       "3 CHN         2       China          8227103 2   \n",
       "4 JPN         3       Japan          5959718 3   \n",
       "5 DEU         4       Germany        3428131 4   \n",
       "6 FRA         5       France         2612878 5   "
      ]
     },
     "metadata": {},
     "output_type": "display_data"
    }
   ],
   "source": [
    "head(gdp,5)"
   ]
  },
  {
   "cell_type": "code",
   "execution_count": 39,
   "metadata": {
    "collapsed": false
   },
   "outputs": [],
   "source": [
    "#merge data on country shortcode\n",
    "merge.gdp.fedstats <- merge(gdp,fedstats,by=\"CountryCode\")\n",
    "\n",
    "#Remove any Rows With NA's\n",
    "merge.data<-merge.gdp.fedstats[!(is.na(merge.gdp.fedstats$Ranking) | merge.gdp.fedstats$Ranking==\"\"), ]"
   ]
  },
  {
   "cell_type": "code",
   "execution_count": 40,
   "metadata": {
    "collapsed": false
   },
   "outputs": [
    {
     "data": {
      "text/html": [
       "<table>\n",
       "<thead><tr><th></th><th scope=col>CountryCode</th><th scope=col>Ranking</th><th scope=col>Economy</th><th scope=col>GDP</th><th scope=col>Rank</th><th scope=col>Long.Name</th><th scope=col>Income.Group</th><th scope=col>Region</th><th scope=col>Lending.category</th><th scope=col>Other.groups</th><th scope=col>⋯</th><th scope=col>Source.of.most.recent.Income.and.expenditure.data</th><th scope=col>Vital.registration.complete</th><th scope=col>Latest.agricultural.census</th><th scope=col>Latest.industrial.data</th><th scope=col>Latest.trade.data</th><th scope=col>Latest.water.withdrawal.data</th><th scope=col>X2.alpha.code</th><th scope=col>WB.2.code</th><th scope=col>Table.Name</th><th scope=col>Short.Name</th></tr></thead>\n",
       "<tbody>\n",
       "\t<tr><th scope=row>1</th><td>ABW                                                                 </td><td>161                                                                 </td><td><span style=white-space:pre-wrap>Aruba               </span>        </td><td><span style=white-space:pre-wrap>  2584</span>                      </td><td>161                                                                 </td><td><span style=white-space:pre-wrap>Aruba                       </span></td><td>High income: nonOECD                                                </td><td>Latin America &amp; Caribbean                                       </td><td><span style=white-space:pre-wrap>    </span>                        </td><td><span style=white-space:pre-wrap>    </span>                        </td><td>⋯                                                                   </td><td><span style=white-space:pre-wrap>          </span>                  </td><td><span style=white-space:pre-wrap>   </span>                         </td><td><span style=white-space:pre-wrap>       </span>                     </td><td><span style=white-space:pre-wrap>  NA</span>                        </td><td>2008                                                                </td><td><span style=white-space:pre-wrap>  NA</span>                        </td><td>AW                                                                  </td><td>AW                                                                  </td><td><span style=white-space:pre-wrap>Aruba               </span>        </td><td><span style=white-space:pre-wrap>Aruba               </span>        </td></tr>\n",
       "\t<tr><th scope=row>3</th><td>AFG                         </td><td>105                         </td><td>Afghanistan                 </td><td> 20497                      </td><td>105                         </td><td>Islamic State of Afghanistan</td><td>Low income                  </td><td>South Asia                  </td><td>IDA                         </td><td>HIPC                        </td><td>⋯                           </td><td>                            </td><td>                            </td><td>                            </td><td>  NA                        </td><td>2008                        </td><td>2000                        </td><td>AF                          </td><td>AF                          </td><td>Afghanistan                 </td><td>Afghanistan                 </td></tr>\n",
       "\t<tr><th scope=row>4</th><td>AGO                         </td><td>60                          </td><td>Angola                      </td><td>114147                      </td><td> 60                         </td><td>People's Republic of Angola </td><td>Lower middle income         </td><td>Sub-Saharan Africa          </td><td>IDA                         </td><td>                            </td><td>⋯                           </td><td>IHS, 2000                   </td><td>                            </td><td>1964-65                     </td><td>  NA                        </td><td>1991                        </td><td>2000                        </td><td>AO                          </td><td>AO                          </td><td>Angola                      </td><td>Angola                      </td></tr>\n",
       "\t<tr><th scope=row>5</th><td>ALB                                                                   </td><td>125                                                                   </td><td><span style=white-space:pre-wrap>Albania             </span>          </td><td> 12648                                                                </td><td>125                                                                   </td><td><span style=white-space:pre-wrap>Republic of Albania         </span>  </td><td>Upper middle income                                                   </td><td><span style=white-space:pre-wrap>Europe &amp; Central Asia     </span></td><td>IBRD                                                                  </td><td><span style=white-space:pre-wrap>    </span>                          </td><td>⋯                                                                     </td><td>LSMS, 2005                                                            </td><td>Yes                                                                   </td><td><span style=white-space:pre-wrap>1998   </span>                       </td><td>2005                                                                  </td><td>2008                                                                  </td><td>2000                                                                  </td><td>AL                                                                    </td><td>AL                                                                    </td><td><span style=white-space:pre-wrap>Albania             </span>          </td><td><span style=white-space:pre-wrap>Albania             </span>          </td></tr>\n",
       "\t<tr><th scope=row>6</th><td>ARE                                                                 </td><td>32                                                                  </td><td>United Arab Emirates                                                </td><td>348595                                                              </td><td> 32                                                                 </td><td><span style=white-space:pre-wrap>United Arab Emirates        </span></td><td>High income: nonOECD                                                </td><td>Middle East &amp; North Africa                                      </td><td><span style=white-space:pre-wrap>    </span>                        </td><td><span style=white-space:pre-wrap>    </span>                        </td><td>⋯                                                                   </td><td><span style=white-space:pre-wrap>          </span>                  </td><td><span style=white-space:pre-wrap>   </span>                         </td><td><span style=white-space:pre-wrap>1998   </span>                     </td><td><span style=white-space:pre-wrap>  NA</span>                        </td><td>2008                                                                </td><td>2005                                                                </td><td>AE                                                                  </td><td>AE                                                                  </td><td>United Arab Emirates                                                </td><td>United Arab Emirates                                                </td></tr>\n",
       "</tbody>\n",
       "</table>\n"
      ],
      "text/latex": [
       "\\begin{tabular}{r|lllllllllllllllllllllllllllllllllll}\n",
       "  & CountryCode & Ranking & Economy & GDP & Rank & Long.Name & Income.Group & Region & Lending.category & Other.groups & ⋯ & Source.of.most.recent.Income.and.expenditure.data & Vital.registration.complete & Latest.agricultural.census & Latest.industrial.data & Latest.trade.data & Latest.water.withdrawal.data & X2.alpha.code & WB.2.code & Table.Name & Short.Name\\\\\n",
       "\\hline\n",
       "\t1 & ABW                          & 161                          & Aruba                        &   2584                       & 161                          & Aruba                        & High income: nonOECD         & Latin America \\& Caribbean  &                              &                              & ⋯                            &                              &                              &                              &   NA                         & 2008                         &   NA                         & AW                           & AW                           & Aruba                        & Aruba                       \\\\\n",
       "\t3 & AFG                          & 105                          & Afghanistan                  &  20497                       & 105                          & Islamic State of Afghanistan & Low income                   & South Asia                   & IDA                          & HIPC                         & ⋯                            &                              &                              &                              &   NA                         & 2008                         & 2000                         & AF                           & AF                           & Afghanistan                  & Afghanistan                 \\\\\n",
       "\t4 & AGO                          & 60                           & Angola                       & 114147                       &  60                          & People's Republic of Angola  & Lower middle income          & Sub-Saharan Africa           & IDA                          &                              & ⋯                            & IHS, 2000                    &                              & 1964-65                      &   NA                         & 1991                         & 2000                         & AO                           & AO                           & Angola                       & Angola                      \\\\\n",
       "\t5 & ALB                          & 125                          & Albania                      &  12648                       & 125                          & Republic of Albania          & Upper middle income          & Europe \\& Central Asia      & IBRD                         &                              & ⋯                            & LSMS, 2005                   & Yes                          & 1998                         & 2005                         & 2008                         & 2000                         & AL                           & AL                           & Albania                      & Albania                     \\\\\n",
       "\t6 & ARE                          & 32                           & United Arab Emirates         & 348595                       &  32                          & United Arab Emirates         & High income: nonOECD         & Middle East \\& North Africa &                              &                              & ⋯                            &                              &                              & 1998                         &   NA                         & 2008                         & 2005                         & AE                           & AE                           & United Arab Emirates         & United Arab Emirates        \\\\\n",
       "\\end{tabular}\n"
      ],
      "text/plain": [
       "  CountryCode Ranking Economy              GDP    Rank\n",
       "1 ABW         161     Aruba                  2584 161 \n",
       "3 AFG         105     Afghanistan           20497 105 \n",
       "4 AGO         60      Angola               114147  60 \n",
       "5 ALB         125     Albania               12648 125 \n",
       "6 ARE         32      United Arab Emirates 348595  32 \n",
       "  Long.Name                    Income.Group         Region                    \n",
       "1 Aruba                        High income: nonOECD Latin America & Caribbean \n",
       "3 Islamic State of Afghanistan Low income           South Asia                \n",
       "4 People's Republic of Angola  Lower middle income  Sub-Saharan Africa        \n",
       "5 Republic of Albania          Upper middle income  Europe & Central Asia     \n",
       "6 United Arab Emirates         High income: nonOECD Middle East & North Africa\n",
       "  Lending.category Other.groups ⋯\n",
       "1                               ⋯\n",
       "3 IDA              HIPC         ⋯\n",
       "4 IDA                           ⋯\n",
       "5 IBRD                          ⋯\n",
       "6                               ⋯\n",
       "  Source.of.most.recent.Income.and.expenditure.data Vital.registration.complete\n",
       "1                                                                              \n",
       "3                                                                              \n",
       "4 IHS, 2000                                                                    \n",
       "5 LSMS, 2005                                        Yes                        \n",
       "6                                                                              \n",
       "  Latest.agricultural.census Latest.industrial.data Latest.trade.data\n",
       "1                              NA                   2008             \n",
       "3                              NA                   2008             \n",
       "4 1964-65                      NA                   1991             \n",
       "5 1998                       2005                   2008             \n",
       "6 1998                         NA                   2008             \n",
       "  Latest.water.withdrawal.data X2.alpha.code WB.2.code Table.Name          \n",
       "1   NA                         AW            AW        Aruba               \n",
       "3 2000                         AF            AF        Afghanistan         \n",
       "4 2000                         AO            AO        Angola              \n",
       "5 2000                         AL            AL        Albania             \n",
       "6 2005                         AE            AE        United Arab Emirates\n",
       "  Short.Name          \n",
       "1 Aruba               \n",
       "3 Afghanistan         \n",
       "4 Angola              \n",
       "5 Albania             \n",
       "6 United Arab Emirates"
      ]
     },
     "metadata": {},
     "output_type": "display_data"
    }
   ],
   "source": [
    "head(merge.data,5)"
   ]
  },
  {
   "cell_type": "code",
   "execution_count": 41,
   "metadata": {
    "collapsed": false
   },
   "outputs": [
    {
     "name": "stdout",
     "output_type": "stream",
     "text": [
      "[1] \"Total Number of ID Matches: 210\"\n"
     ]
    }
   ],
   "source": [
    "#Question:1 Number of Matches\n",
    "print(paste0(\"Total Number of ID Matches: \",\n",
    "             length(intersect(fedstats$CountryCode,gdp$CountryCode))))"
   ]
  },
  {
   "cell_type": "code",
   "execution_count": 42,
   "metadata": {
    "collapsed": false
   },
   "outputs": [],
   "source": [
    "sort.gdp <-merge.data[order(merge.data$GDP,decreasing=FALSE,na.last = TRUE),]"
   ]
  },
  {
   "cell_type": "code",
   "execution_count": 43,
   "metadata": {
    "collapsed": false
   },
   "outputs": [
    {
     "data": {
      "text/html": [
       "<table>\n",
       "<thead><tr><th></th><th scope=col>CountryCode</th><th scope=col>Ranking</th><th scope=col>Economy</th><th scope=col>GDP</th><th scope=col>Rank</th><th scope=col>Long.Name</th><th scope=col>Income.Group</th><th scope=col>Region</th><th scope=col>Lending.category</th><th scope=col>Other.groups</th><th scope=col>⋯</th><th scope=col>Source.of.most.recent.Income.and.expenditure.data</th><th scope=col>Vital.registration.complete</th><th scope=col>Latest.agricultural.census</th><th scope=col>Latest.industrial.data</th><th scope=col>Latest.trade.data</th><th scope=col>Latest.water.withdrawal.data</th><th scope=col>X2.alpha.code</th><th scope=col>WB.2.code</th><th scope=col>Table.Name</th><th scope=col>Short.Name</th></tr></thead>\n",
       "<tbody>\n",
       "\t<tr><th scope=row>192</th><td>TUV                                                                                       </td><td>190                                                                                       </td><td><span style=white-space:pre-wrap>Tuvalu                        </span>                    </td><td> 40                                                                                       </td><td>190                                                                                       </td><td><span style=white-space:pre-wrap>Tuvalu                                            </span></td><td>Lower middle income                                                                       </td><td><span style=white-space:pre-wrap>East Asia &amp; Pacific      </span>                     </td><td><span style=white-space:pre-wrap>     </span>                                             </td><td><span style=white-space:pre-wrap>    </span>                                              </td><td>⋯                                                                                         </td><td><span style=white-space:pre-wrap>          </span>                                        </td><td><span style=white-space:pre-wrap>   </span>                                               </td><td><span style=white-space:pre-wrap>    </span>                                              </td><td>NA                                                                                        </td><td><span style=white-space:pre-wrap>  NA</span>                                              </td><td>NA                                                                                        </td><td>TV                                                                                        </td><td>TV                                                                                        </td><td><span style=white-space:pre-wrap>Tuvalu                        </span>                    </td><td><span style=white-space:pre-wrap>Tuvalu                        </span>                    </td></tr>\n",
       "\t<tr><th scope=row>101</th><td>KIR                                                                                       </td><td>189                                                                                       </td><td><span style=white-space:pre-wrap>Kiribati                      </span>                    </td><td>175                                                                                       </td><td>189                                                                                       </td><td><span style=white-space:pre-wrap>Republic of Kiribati                              </span></td><td>Lower middle income                                                                       </td><td><span style=white-space:pre-wrap>East Asia &amp; Pacific      </span>                     </td><td><span style=white-space:pre-wrap>IDA  </span>                                             </td><td><span style=white-space:pre-wrap>    </span>                                              </td><td>⋯                                                                                         </td><td><span style=white-space:pre-wrap>          </span>                                        </td><td><span style=white-space:pre-wrap>   </span>                                               </td><td><span style=white-space:pre-wrap>    </span>                                              </td><td>NA                                                                                        </td><td>2005                                                                                      </td><td>NA                                                                                        </td><td>KI                                                                                        </td><td>KI                                                                                        </td><td><span style=white-space:pre-wrap>Kiribati                      </span>                    </td><td><span style=white-space:pre-wrap>Kiribati                      </span>                    </td></tr>\n",
       "\t<tr><th scope=row>124</th><td>MHL                                                                                       </td><td>188                                                                                       </td><td><span style=white-space:pre-wrap>Marshall Islands              </span>                    </td><td>182                                                                                       </td><td>188                                                                                       </td><td><span style=white-space:pre-wrap>Republic of the Marshall Islands                  </span></td><td>Lower middle income                                                                       </td><td><span style=white-space:pre-wrap>East Asia &amp; Pacific      </span>                     </td><td>IBRD                                                                                      </td><td><span style=white-space:pre-wrap>    </span>                                              </td><td>⋯                                                                                         </td><td><span style=white-space:pre-wrap>          </span>                                        </td><td><span style=white-space:pre-wrap>   </span>                                               </td><td><span style=white-space:pre-wrap>    </span>                                              </td><td>NA                                                                                        </td><td><span style=white-space:pre-wrap>  NA</span>                                              </td><td>NA                                                                                        </td><td>MH                                                                                        </td><td>MH                                                                                        </td><td><span style=white-space:pre-wrap>Marshall Islands              </span>                    </td><td><span style=white-space:pre-wrap>Marshall Islands              </span>                    </td></tr>\n",
       "\t<tr><th scope=row>151</th><td>PLW                                                                                       </td><td>187                                                                                       </td><td><span style=white-space:pre-wrap>Palau                         </span>                    </td><td>228                                                                                       </td><td>187                                                                                       </td><td><span style=white-space:pre-wrap>Republic of Palau                                 </span></td><td>Upper middle income                                                                       </td><td><span style=white-space:pre-wrap>East Asia &amp; Pacific      </span>                     </td><td>IBRD                                                                                      </td><td><span style=white-space:pre-wrap>    </span>                                              </td><td>⋯                                                                                         </td><td><span style=white-space:pre-wrap>          </span>                                        </td><td>Yes                                                                                       </td><td><span style=white-space:pre-wrap>    </span>                                              </td><td>NA                                                                                        </td><td><span style=white-space:pre-wrap>  NA</span>                                              </td><td>NA                                                                                        </td><td>PW                                                                                        </td><td>PW                                                                                        </td><td><span style=white-space:pre-wrap>Palau                         </span>                    </td><td><span style=white-space:pre-wrap>Palau                         </span>                    </td></tr>\n",
       "\t<tr><th scope=row>173</th><td>STP                                                                               </td><td>186                                                                               </td><td><span style=white-space:pre-wrap>S&lt;e3&gt;o Tom&lt;e9&gt; and Principe   </span></td><td>263                                                                               </td><td>186                                                                               </td><td>Democratic Republic of S&lt;e3&gt;o Tom&lt;e9&gt; and Principe                    </td><td>Lower middle income                                                               </td><td><span style=white-space:pre-wrap>Sub-Saharan Africa       </span>                 </td><td><span style=white-space:pre-wrap>IDA  </span>                                     </td><td>HIPC                                                                              </td><td>⋯                                                                                 </td><td>PS 2000-01                                                                        </td><td><span style=white-space:pre-wrap>   </span>                                       </td><td><span style=white-space:pre-wrap>    </span>                                      </td><td>NA                                                                                </td><td>2008                                                                              </td><td>NA                                                                                </td><td>ST                                                                                </td><td>ST                                                                                </td><td><span style=white-space:pre-wrap>S&lt;e3&gt;o Tom&lt;e9&gt; and Principe   </span></td><td><span style=white-space:pre-wrap>S&lt;e3&gt;o Tom&lt;e9&gt; and Principe   </span></td></tr>\n",
       "\t<tr><th scope=row>65</th><td>FSM                                                                                       </td><td>185                                                                                       </td><td><span style=white-space:pre-wrap>Micronesia, Fed. Sts.         </span>                    </td><td>326                                                                                       </td><td>185                                                                                       </td><td><span style=white-space:pre-wrap>Federated States of Micronesia                    </span></td><td>Lower middle income                                                                       </td><td><span style=white-space:pre-wrap>East Asia &amp; Pacific      </span>                     </td><td>IBRD                                                                                      </td><td><span style=white-space:pre-wrap>    </span>                                              </td><td>⋯                                                                                         </td><td><span style=white-space:pre-wrap>          </span>                                        </td><td><span style=white-space:pre-wrap>   </span>                                               </td><td><span style=white-space:pre-wrap>    </span>                                              </td><td>NA                                                                                        </td><td><span style=white-space:pre-wrap>  NA</span>                                              </td><td>NA                                                                                        </td><td>FM                                                                                        </td><td>FM                                                                                        </td><td><span style=white-space:pre-wrap>Micronesia, Fed. Sts.         </span>                    </td><td><span style=white-space:pre-wrap>Micronesia                    </span>                    </td></tr>\n",
       "\t<tr><th scope=row>188</th><td>TON                                                                                       </td><td>184                                                                                       </td><td><span style=white-space:pre-wrap>Tonga                         </span>                    </td><td>472                                                                                       </td><td>184                                                                                       </td><td><span style=white-space:pre-wrap>Kingdom of Tonga                                  </span></td><td>Lower middle income                                                                       </td><td><span style=white-space:pre-wrap>East Asia &amp; Pacific      </span>                     </td><td><span style=white-space:pre-wrap>IDA  </span>                                             </td><td><span style=white-space:pre-wrap>    </span>                                              </td><td>⋯                                                                                         </td><td><span style=white-space:pre-wrap>          </span>                                        </td><td>Yes                                                                                       </td><td>2001                                                                                      </td><td>NA                                                                                        </td><td>2007                                                                                      </td><td>NA                                                                                        </td><td>TO                                                                                        </td><td>TO                                                                                        </td><td><span style=white-space:pre-wrap>Tonga                         </span>                    </td><td><span style=white-space:pre-wrap>Tonga                         </span>                    </td></tr>\n",
       "\t<tr><th scope=row>51</th><td>DMA                                                                                       </td><td>183                                                                                       </td><td><span style=white-space:pre-wrap>Dominica                      </span>                    </td><td>480                                                                                       </td><td>183                                                                                       </td><td><span style=white-space:pre-wrap>Commonwealth of Dominica                          </span></td><td>Upper middle income                                                                       </td><td>Latin America &amp; Caribbean                                                             </td><td>Blend                                                                                     </td><td><span style=white-space:pre-wrap>    </span>                                              </td><td>⋯                                                                                         </td><td><span style=white-space:pre-wrap>          </span>                                        </td><td>Yes                                                                                       </td><td><span style=white-space:pre-wrap>    </span>                                              </td><td>NA                                                                                        </td><td>2008                                                                                      </td><td>NA                                                                                        </td><td>DM                                                                                        </td><td>DM                                                                                        </td><td><span style=white-space:pre-wrap>Dominica                      </span>                    </td><td><span style=white-space:pre-wrap>Dominica                      </span>                    </td></tr>\n",
       "\t<tr><th scope=row>42</th><td>COM                                               </td><td>182                                               </td><td>Comoros                                           </td><td>596                                               </td><td>182                                               </td><td>Union of the Comoros                              </td><td>Low income                                        </td><td>Sub-Saharan Africa                                </td><td>IDA                                               </td><td>HIPC                                              </td><td>⋯                                                 </td><td>IHS, 2004                                         </td><td>                                                  </td><td>                                                  </td><td>NA                                                </td><td>2007                                              </td><td>NA                                                </td><td>KM                                                </td><td>KM                                                </td><td>Comoros                                           </td><td>Comoros                                           </td></tr>\n",
       "\t<tr><th scope=row>205</th><td>WSM                                                                                       </td><td>181                                                                                       </td><td><span style=white-space:pre-wrap>Samoa                         </span>                    </td><td>684                                                                                       </td><td>181                                                                                       </td><td><span style=white-space:pre-wrap>Samoa                                             </span></td><td>Lower middle income                                                                       </td><td><span style=white-space:pre-wrap>East Asia &amp; Pacific      </span>                     </td><td><span style=white-space:pre-wrap>IDA  </span>                                             </td><td><span style=white-space:pre-wrap>    </span>                                              </td><td>⋯                                                                                         </td><td><span style=white-space:pre-wrap>          </span>                                        </td><td><span style=white-space:pre-wrap>   </span>                                               </td><td>1999                                                                                      </td><td>NA                                                                                        </td><td>2008                                                                                      </td><td>NA                                                                                        </td><td>WS                                                                                        </td><td>WS                                                                                        </td><td><span style=white-space:pre-wrap>Samoa                         </span>                    </td><td><span style=white-space:pre-wrap>Samoa                         </span>                    </td></tr>\n",
       "\t<tr><th scope=row>199</th><td>VCT                                                                                       </td><td>180                                                                                       </td><td>St. Vincent and the Grenadines                                                            </td><td>713                                                                                       </td><td>180                                                                                       </td><td><span style=white-space:pre-wrap>St. Vincent and the Grenadines                    </span></td><td>Upper middle income                                                                       </td><td>Latin America &amp; Caribbean                                                             </td><td>Blend                                                                                     </td><td><span style=white-space:pre-wrap>    </span>                                              </td><td>⋯                                                                                         </td><td><span style=white-space:pre-wrap>          </span>                                        </td><td>Yes                                                                                       </td><td><span style=white-space:pre-wrap>    </span>                                              </td><td>NA                                                                                        </td><td>2008                                                                                      </td><td>NA                                                                                        </td><td>VC                                                                                        </td><td>VC                                                                                        </td><td>St. Vincent and the Grenadines                                                            </td><td>St. Vincent and the Grenadines                                                            </td></tr>\n",
       "\t<tr><th scope=row>75</th><td>GRD                                                                                       </td><td>178                                                                                       </td><td><span style=white-space:pre-wrap>Grenada                       </span>                    </td><td>767                                                                                       </td><td>178                                                                                       </td><td><span style=white-space:pre-wrap>Grenada                                           </span></td><td>Upper middle income                                                                       </td><td>Latin America &amp; Caribbean                                                             </td><td>Blend                                                                                     </td><td><span style=white-space:pre-wrap>    </span>                                              </td><td>⋯                                                                                         </td><td><span style=white-space:pre-wrap>          </span>                                        </td><td><span style=white-space:pre-wrap>   </span>                                               </td><td><span style=white-space:pre-wrap>    </span>                                              </td><td>NA                                                                                        </td><td>2008                                                                                      </td><td>NA                                                                                        </td><td>GD                                                                                        </td><td>GD                                                                                        </td><td><span style=white-space:pre-wrap>Grenada                       </span>                    </td><td><span style=white-space:pre-wrap>Grenada                       </span>                    </td></tr>\n",
       "\t<tr><th scope=row>102</th><td>KNA                                                                                       </td><td>178                                                                                       </td><td><span style=white-space:pre-wrap>St. Kitts and Nevis           </span>                    </td><td>767                                                                                       </td><td>178                                                                                       </td><td><span style=white-space:pre-wrap>St. Kitts and Nevis                               </span></td><td>Upper middle income                                                                       </td><td>Latin America &amp; Caribbean                                                             </td><td>IBRD                                                                                      </td><td><span style=white-space:pre-wrap>    </span>                                              </td><td>⋯                                                                                         </td><td><span style=white-space:pre-wrap>          </span>                                        </td><td><span style=white-space:pre-wrap>   </span>                                               </td><td><span style=white-space:pre-wrap>    </span>                                              </td><td>NA                                                                                        </td><td>2007                                                                                      </td><td>NA                                                                                        </td><td>KN                                                                                        </td><td>KN                                                                                        </td><td><span style=white-space:pre-wrap>St. Kitts and Nevis           </span>                    </td><td><span style=white-space:pre-wrap>St. Kitts and Nevis           </span>                    </td></tr>\n",
       "</tbody>\n",
       "</table>\n"
      ],
      "text/latex": [
       "\\begin{tabular}{r|lllllllllllllllllllllllllllllllllll}\n",
       "  & CountryCode & Ranking & Economy & GDP & Rank & Long.Name & Income.Group & Region & Lending.category & Other.groups & ⋯ & Source.of.most.recent.Income.and.expenditure.data & Vital.registration.complete & Latest.agricultural.census & Latest.industrial.data & Latest.trade.data & Latest.water.withdrawal.data & X2.alpha.code & WB.2.code & Table.Name & Short.Name\\\\\n",
       "\\hline\n",
       "\t192 & TUV                                                & 190                                                & Tuvalu                                             &  40                                                & 190                                                & Tuvalu                                             & Lower middle income                                & East Asia \\& Pacific                              &                                                    &                                                    & ⋯                                                  &                                                    &                                                    &                                                    & NA                                                 &   NA                                               & NA                                                 & TV                                                 & TV                                                 & Tuvalu                                             & Tuvalu                                            \\\\\n",
       "\t101 & KIR                                                & 189                                                & Kiribati                                           & 175                                                & 189                                                & Republic of Kiribati                               & Lower middle income                                & East Asia \\& Pacific                              & IDA                                                &                                                    & ⋯                                                  &                                                    &                                                    &                                                    & NA                                                 & 2005                                               & NA                                                 & KI                                                 & KI                                                 & Kiribati                                           & Kiribati                                          \\\\\n",
       "\t124 & MHL                                                & 188                                                & Marshall Islands                                   & 182                                                & 188                                                & Republic of the Marshall Islands                   & Lower middle income                                & East Asia \\& Pacific                              & IBRD                                               &                                                    & ⋯                                                  &                                                    &                                                    &                                                    & NA                                                 &   NA                                               & NA                                                 & MH                                                 & MH                                                 & Marshall Islands                                   & Marshall Islands                                  \\\\\n",
       "\t151 & PLW                                                & 187                                                & Palau                                              & 228                                                & 187                                                & Republic of Palau                                  & Upper middle income                                & East Asia \\& Pacific                              & IBRD                                               &                                                    & ⋯                                                  &                                                    & Yes                                                &                                                    & NA                                                 &   NA                                               & NA                                                 & PW                                                 & PW                                                 & Palau                                              & Palau                                             \\\\\n",
       "\t173 & STP                                                & 186                                                & S<e3>o Tom<e9> and Principe                        & 263                                                & 186                                                & Democratic Republic of S<e3>o Tom<e9> and Principe & Lower middle income                                & Sub-Saharan Africa                                 & IDA                                                & HIPC                                               & ⋯                                                  & PS 2000-01                                         &                                                    &                                                    & NA                                                 & 2008                                               & NA                                                 & ST                                                 & ST                                                 & S<e3>o Tom<e9> and Principe                        & S<e3>o Tom<e9> and Principe                       \\\\\n",
       "\t65 & FSM                                                & 185                                                & Micronesia, Fed. Sts.                              & 326                                                & 185                                                & Federated States of Micronesia                     & Lower middle income                                & East Asia \\& Pacific                              & IBRD                                               &                                                    & ⋯                                                  &                                                    &                                                    &                                                    & NA                                                 &   NA                                               & NA                                                 & FM                                                 & FM                                                 & Micronesia, Fed. Sts.                              & Micronesia                                        \\\\\n",
       "\t188 & TON                                                & 184                                                & Tonga                                              & 472                                                & 184                                                & Kingdom of Tonga                                   & Lower middle income                                & East Asia \\& Pacific                              & IDA                                                &                                                    & ⋯                                                  &                                                    & Yes                                                & 2001                                               & NA                                                 & 2007                                               & NA                                                 & TO                                                 & TO                                                 & Tonga                                              & Tonga                                             \\\\\n",
       "\t51 & DMA                                                & 183                                                & Dominica                                           & 480                                                & 183                                                & Commonwealth of Dominica                           & Upper middle income                                & Latin America \\& Caribbean                        & Blend                                              &                                                    & ⋯                                                  &                                                    & Yes                                                &                                                    & NA                                                 & 2008                                               & NA                                                 & DM                                                 & DM                                                 & Dominica                                           & Dominica                                          \\\\\n",
       "\t42 & COM                                                & 182                                                & Comoros                                            & 596                                                & 182                                                & Union of the Comoros                               & Low income                                         & Sub-Saharan Africa                                 & IDA                                                & HIPC                                               & ⋯                                                  & IHS, 2004                                          &                                                    &                                                    & NA                                                 & 2007                                               & NA                                                 & KM                                                 & KM                                                 & Comoros                                            & Comoros                                           \\\\\n",
       "\t205 & WSM                                                & 181                                                & Samoa                                              & 684                                                & 181                                                & Samoa                                              & Lower middle income                                & East Asia \\& Pacific                              & IDA                                                &                                                    & ⋯                                                  &                                                    &                                                    & 1999                                               & NA                                                 & 2008                                               & NA                                                 & WS                                                 & WS                                                 & Samoa                                              & Samoa                                             \\\\\n",
       "\t199 & VCT                                                & 180                                                & St. Vincent and the Grenadines                     & 713                                                & 180                                                & St. Vincent and the Grenadines                     & Upper middle income                                & Latin America \\& Caribbean                        & Blend                                              &                                                    & ⋯                                                  &                                                    & Yes                                                &                                                    & NA                                                 & 2008                                               & NA                                                 & VC                                                 & VC                                                 & St. Vincent and the Grenadines                     & St. Vincent and the Grenadines                    \\\\\n",
       "\t75 & GRD                                                & 178                                                & Grenada                                            & 767                                                & 178                                                & Grenada                                            & Upper middle income                                & Latin America \\& Caribbean                        & Blend                                              &                                                    & ⋯                                                  &                                                    &                                                    &                                                    & NA                                                 & 2008                                               & NA                                                 & GD                                                 & GD                                                 & Grenada                                            & Grenada                                           \\\\\n",
       "\t102 & KNA                                                & 178                                                & St. Kitts and Nevis                                & 767                                                & 178                                                & St. Kitts and Nevis                                & Upper middle income                                & Latin America \\& Caribbean                        & IBRD                                               &                                                    & ⋯                                                  &                                                    &                                                    &                                                    & NA                                                 & 2007                                               & NA                                                 & KN                                                 & KN                                                 & St. Kitts and Nevis                                & St. Kitts and Nevis                               \\\\\n",
       "\\end{tabular}\n"
      ],
      "text/plain": [
       "    CountryCode Ranking Economy                        GDP Rank\n",
       "192 TUV         190     Tuvalu                          40 190 \n",
       "101 KIR         189     Kiribati                       175 189 \n",
       "124 MHL         188     Marshall Islands               182 188 \n",
       "151 PLW         187     Palau                          228 187 \n",
       "173 STP         186     S\\xe3o Tom\\xe9 and Principe    263 186 \n",
       "65  FSM         185     Micronesia, Fed. Sts.          326 185 \n",
       "188 TON         184     Tonga                          472 184 \n",
       "51  DMA         183     Dominica                       480 183 \n",
       "42  COM         182     Comoros                        596 182 \n",
       "205 WSM         181     Samoa                          684 181 \n",
       "199 VCT         180     St. Vincent and the Grenadines 713 180 \n",
       "75  GRD         178     Grenada                        767 178 \n",
       "102 KNA         178     St. Kitts and Nevis            767 178 \n",
       "    Long.Name                                          Income.Group       \n",
       "192 Tuvalu                                             Lower middle income\n",
       "101 Republic of Kiribati                               Lower middle income\n",
       "124 Republic of the Marshall Islands                   Lower middle income\n",
       "151 Republic of Palau                                  Upper middle income\n",
       "173 Democratic Republic of S\\xe3o Tom\\xe9 and Principe Lower middle income\n",
       "65  Federated States of Micronesia                     Lower middle income\n",
       "188 Kingdom of Tonga                                   Lower middle income\n",
       "51  Commonwealth of Dominica                           Upper middle income\n",
       "42  Union of the Comoros                               Low income         \n",
       "205 Samoa                                              Lower middle income\n",
       "199 St. Vincent and the Grenadines                     Upper middle income\n",
       "75  Grenada                                            Upper middle income\n",
       "102 St. Kitts and Nevis                                Upper middle income\n",
       "    Region                    Lending.category Other.groups ⋯\n",
       "192 East Asia & Pacific                                     ⋯\n",
       "101 East Asia & Pacific       IDA                           ⋯\n",
       "124 East Asia & Pacific       IBRD                          ⋯\n",
       "151 East Asia & Pacific       IBRD                          ⋯\n",
       "173 Sub-Saharan Africa        IDA              HIPC         ⋯\n",
       "65  East Asia & Pacific       IBRD                          ⋯\n",
       "188 East Asia & Pacific       IDA                           ⋯\n",
       "51  Latin America & Caribbean Blend                         ⋯\n",
       "42  Sub-Saharan Africa        IDA              HIPC         ⋯\n",
       "205 East Asia & Pacific       IDA                           ⋯\n",
       "199 Latin America & Caribbean Blend                         ⋯\n",
       "75  Latin America & Caribbean Blend                         ⋯\n",
       "102 Latin America & Caribbean IBRD                          ⋯\n",
       "    Source.of.most.recent.Income.and.expenditure.data\n",
       "192                                                  \n",
       "101                                                  \n",
       "124                                                  \n",
       "151                                                  \n",
       "173 PS 2000-01                                       \n",
       "65                                                   \n",
       "188                                                  \n",
       "51                                                   \n",
       "42  IHS, 2004                                        \n",
       "205                                                  \n",
       "199                                                  \n",
       "75                                                   \n",
       "102                                                  \n",
       "    Vital.registration.complete Latest.agricultural.census\n",
       "192                                                       \n",
       "101                                                       \n",
       "124                                                       \n",
       "151 Yes                                                   \n",
       "173                                                       \n",
       "65                                                        \n",
       "188 Yes                         2001                      \n",
       "51  Yes                                                   \n",
       "42                                                        \n",
       "205                             1999                      \n",
       "199 Yes                                                   \n",
       "75                                                        \n",
       "102                                                       \n",
       "    Latest.industrial.data Latest.trade.data Latest.water.withdrawal.data\n",
       "192 NA                       NA              NA                          \n",
       "101 NA                     2005              NA                          \n",
       "124 NA                       NA              NA                          \n",
       "151 NA                       NA              NA                          \n",
       "173 NA                     2008              NA                          \n",
       "65  NA                       NA              NA                          \n",
       "188 NA                     2007              NA                          \n",
       "51  NA                     2008              NA                          \n",
       "42  NA                     2007              NA                          \n",
       "205 NA                     2008              NA                          \n",
       "199 NA                     2008              NA                          \n",
       "75  NA                     2008              NA                          \n",
       "102 NA                     2007              NA                          \n",
       "    X2.alpha.code WB.2.code Table.Name                    \n",
       "192 TV            TV        Tuvalu                        \n",
       "101 KI            KI        Kiribati                      \n",
       "124 MH            MH        Marshall Islands              \n",
       "151 PW            PW        Palau                         \n",
       "173 ST            ST        S\\xe3o Tom\\xe9 and Principe   \n",
       "65  FM            FM        Micronesia, Fed. Sts.         \n",
       "188 TO            TO        Tonga                         \n",
       "51  DM            DM        Dominica                      \n",
       "42  KM            KM        Comoros                       \n",
       "205 WS            WS        Samoa                         \n",
       "199 VC            VC        St. Vincent and the Grenadines\n",
       "75  GD            GD        Grenada                       \n",
       "102 KN            KN        St. Kitts and Nevis           \n",
       "    Short.Name                    \n",
       "192 Tuvalu                        \n",
       "101 Kiribati                      \n",
       "124 Marshall Islands              \n",
       "151 Palau                         \n",
       "173 S\\xe3o Tom\\xe9 and Principe   \n",
       "65  Micronesia                    \n",
       "188 Tonga                         \n",
       "51  Dominica                      \n",
       "42  Comoros                       \n",
       "205 Samoa                         \n",
       "199 St. Vincent and the Grenadines\n",
       "75  Grenada                       \n",
       "102 St. Kitts and Nevis           "
      ]
     },
     "metadata": {},
     "output_type": "display_data"
    }
   ],
   "source": [
    "head(sort.gdp,13)"
   ]
  },
  {
   "cell_type": "code",
   "execution_count": 44,
   "metadata": {
    "collapsed": false,
    "scrolled": false
   },
   "outputs": [],
   "source": [
    "#removes all of the NA or blank rows\n",
    "merge.data.agg <- ddply(merge.data, .(Income.Group), summarize,  Rank=mean(Rank))\n",
    "merge.data.agg1 <-merge.data.agg[!(is.na(merge.data.agg$Rank) | merge.data.agg$Rank==\"\"), ]\n"
   ]
  },
  {
   "cell_type": "code",
   "execution_count": 45,
   "metadata": {
    "collapsed": false
   },
   "outputs": [
    {
     "data": {
      "text/html": [
       "<table>\n",
       "<thead><tr><th scope=col>Income.Group</th><th scope=col>Rank</th></tr></thead>\n",
       "<tbody>\n",
       "\t<tr><td>High income: nonOECD</td><td> 91.91304           </td></tr>\n",
       "\t<tr><td>High income: OECD   </td><td> 32.96667           </td></tr>\n",
       "\t<tr><td>Low income          </td><td>133.72973           </td></tr>\n",
       "\t<tr><td>Lower middle income </td><td>107.70370           </td></tr>\n",
       "\t<tr><td>Upper middle income </td><td> 92.13333           </td></tr>\n",
       "</tbody>\n",
       "</table>\n"
      ],
      "text/latex": [
       "\\begin{tabular}{r|ll}\n",
       " Income.Group & Rank\\\\\n",
       "\\hline\n",
       "\t High income: nonOECD &  91.91304           \\\\\n",
       "\t High income: OECD    &  32.96667           \\\\\n",
       "\t Low income           & 133.72973           \\\\\n",
       "\t Lower middle income  & 107.70370           \\\\\n",
       "\t Upper middle income  &  92.13333           \\\\\n",
       "\\end{tabular}\n"
      ],
      "text/plain": [
       "  Income.Group         Rank     \n",
       "1 High income: nonOECD  91.91304\n",
       "2 High income: OECD     32.96667\n",
       "3 Low income           133.72973\n",
       "4 Lower middle income  107.70370\n",
       "5 Upper middle income   92.13333"
      ]
     },
     "metadata": {},
     "output_type": "display_data"
    }
   ],
   "source": [
    "merge.data.agg"
   ]
  },
  {
   "cell_type": "code",
   "execution_count": 46,
   "metadata": {
    "collapsed": false
   },
   "outputs": [],
   "source": [
    "x<-log10()\n",
    "y<-log10()"
   ]
  },
  {
   "cell_type": "code",
   "execution_count": 54,
   "metadata": {
    "collapsed": false
   },
   "outputs": [
    {
     "data": {},
     "metadata": {},
     "output_type": "display_data"
    },
    {
     "data": {
      "image/png": "[encoded data removed]",
      "text/plain": [
       "plot without title"
      ]
     },
     "metadata": {},
     "output_type": "display_data"
    }
   ],
   "source": [
    "ggplot(merge.data,aes(y=merge.data$GDP,x=Income.Group))+scale_y_log10()"
   ]
  },
  {
   "cell_type": "code",
   "execution_count": null,
   "metadata": {
    "collapsed": true
   },
   "outputs": [],
   "source": []
  }
 ],
 "metadata": {
  "kernelspec": {
   "display_name": "R",
   "language": "R",
   "name": "ir"
  },
  "language_info": {
   "codemirror_mode": "r",
   "file_extension": ".r",
   "mimetype": "text/x-r-source",
   "name": "R",
   "pygments_lexer": "r",
   "version": "3.3.1"
  }
 },
 "nbformat": 4,
 "nbformat_minor": 1
}
