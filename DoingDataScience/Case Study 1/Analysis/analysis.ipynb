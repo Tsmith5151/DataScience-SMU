{
 "cells": [
  {
   "cell_type": "markdown",
   "metadata": {},
   "source": [
    "# Case Study 1\n",
    "\n",
    "**Analysis #1: Merging Data Set**"
   ]
  },
  {
   "cell_type": "code",
   "execution_count": 36,
   "metadata": {
    "collapsed": true
   },
   "outputs": [],
   "source": [
    "library(plyr)"
   ]
  },
  {
   "cell_type": "code",
   "execution_count": 9,
   "metadata": {
    "collapsed": false
   },
   "outputs": [],
   "source": [
    "#Load FEDSTATS Dataset\n",
    "fedstats.raw <- read.csv(\"../Data/FEDSTATS_Country.csv\",header=TRUE)"
   ]
  },
  {
   "cell_type": "code",
   "execution_count": null,
   "metadata": {
    "collapsed": true
   },
   "outputs": [],
   "source": [
    "#Check the data\n",
    "str(fedstats.raw)"
   ]
  },
  {
   "cell_type": "code",
   "execution_count": 10,
   "metadata": {
    "collapsed": false
   },
   "outputs": [
    {
     "name": "stdout",
     "output_type": "stream",
     "text": [
      "[1] \"Column Names of gdp.raw Dataset\"\n"
     ]
    },
    {
     "data": {
      "text/html": [
       "<ol class=list-inline>\n",
       "\t<li>'CountryCode'</li>\n",
       "\t<li>'Long.Name'</li>\n",
       "\t<li>'Income.Group'</li>\n",
       "\t<li>'Region'</li>\n",
       "\t<li>'Lending.category'</li>\n",
       "\t<li>'Other.groups'</li>\n",
       "\t<li>'Currency.Unit'</li>\n",
       "\t<li>'Latest.population.census'</li>\n",
       "\t<li>'Latest.household.survey'</li>\n",
       "\t<li>'Special.Notes'</li>\n",
       "\t<li>'National.accounts.base.year'</li>\n",
       "\t<li>'National.accounts.reference.year'</li>\n",
       "\t<li>'System.of.National.Accounts'</li>\n",
       "\t<li>'SNA.price.valuation'</li>\n",
       "\t<li>'Alternative.conversion.factor'</li>\n",
       "\t<li>'PPP.survey.year'</li>\n",
       "\t<li>'Balance.of.Payments.Manual.in.use'</li>\n",
       "\t<li>'External.debt.Reporting.status'</li>\n",
       "\t<li>'System.of.trade'</li>\n",
       "\t<li>'Government.Accounting.concept'</li>\n",
       "\t<li>'IMF.data.dissemination.standard'</li>\n",
       "\t<li>'Source.of.most.recent.Income.and.expenditure.data'</li>\n",
       "\t<li>'Vital.registration.complete'</li>\n",
       "\t<li>'Latest.agricultural.census'</li>\n",
       "\t<li>'Latest.industrial.data'</li>\n",
       "\t<li>'Latest.trade.data'</li>\n",
       "\t<li>'Latest.water.withdrawal.data'</li>\n",
       "\t<li>'X2.alpha.code'</li>\n",
       "\t<li>'WB.2.code'</li>\n",
       "\t<li>'Table.Name'</li>\n",
       "\t<li>'Short.Name'</li>\n",
       "</ol>\n"
      ],
      "text/latex": [
       "\\begin{enumerate*}\n",
       "\\item 'CountryCode'\n",
       "\\item 'Long.Name'\n",
       "\\item 'Income.Group'\n",
       "\\item 'Region'\n",
       "\\item 'Lending.category'\n",
       "\\item 'Other.groups'\n",
       "\\item 'Currency.Unit'\n",
       "\\item 'Latest.population.census'\n",
       "\\item 'Latest.household.survey'\n",
       "\\item 'Special.Notes'\n",
       "\\item 'National.accounts.base.year'\n",
       "\\item 'National.accounts.reference.year'\n",
       "\\item 'System.of.National.Accounts'\n",
       "\\item 'SNA.price.valuation'\n",
       "\\item 'Alternative.conversion.factor'\n",
       "\\item 'PPP.survey.year'\n",
       "\\item 'Balance.of.Payments.Manual.in.use'\n",
       "\\item 'External.debt.Reporting.status'\n",
       "\\item 'System.of.trade'\n",
       "\\item 'Government.Accounting.concept'\n",
       "\\item 'IMF.data.dissemination.standard'\n",
       "\\item 'Source.of.most.recent.Income.and.expenditure.data'\n",
       "\\item 'Vital.registration.complete'\n",
       "\\item 'Latest.agricultural.census'\n",
       "\\item 'Latest.industrial.data'\n",
       "\\item 'Latest.trade.data'\n",
       "\\item 'Latest.water.withdrawal.data'\n",
       "\\item 'X2.alpha.code'\n",
       "\\item 'WB.2.code'\n",
       "\\item 'Table.Name'\n",
       "\\item 'Short.Name'\n",
       "\\end{enumerate*}\n"
      ],
      "text/markdown": [
       "1. 'CountryCode'\n",
       "2. 'Long.Name'\n",
       "3. 'Income.Group'\n",
       "4. 'Region'\n",
       "5. 'Lending.category'\n",
       "6. 'Other.groups'\n",
       "7. 'Currency.Unit'\n",
       "8. 'Latest.population.census'\n",
       "9. 'Latest.household.survey'\n",
       "10. 'Special.Notes'\n",
       "11. 'National.accounts.base.year'\n",
       "12. 'National.accounts.reference.year'\n",
       "13. 'System.of.National.Accounts'\n",
       "14. 'SNA.price.valuation'\n",
       "15. 'Alternative.conversion.factor'\n",
       "16. 'PPP.survey.year'\n",
       "17. 'Balance.of.Payments.Manual.in.use'\n",
       "18. 'External.debt.Reporting.status'\n",
       "19. 'System.of.trade'\n",
       "20. 'Government.Accounting.concept'\n",
       "21. 'IMF.data.dissemination.standard'\n",
       "22. 'Source.of.most.recent.Income.and.expenditure.data'\n",
       "23. 'Vital.registration.complete'\n",
       "24. 'Latest.agricultural.census'\n",
       "25. 'Latest.industrial.data'\n",
       "26. 'Latest.trade.data'\n",
       "27. 'Latest.water.withdrawal.data'\n",
       "28. 'X2.alpha.code'\n",
       "29. 'WB.2.code'\n",
       "30. 'Table.Name'\n",
       "31. 'Short.Name'\n",
       "\n",
       "\n"
      ],
      "text/plain": [
       " [1] \"CountryCode\"                                      \n",
       " [2] \"Long.Name\"                                        \n",
       " [3] \"Income.Group\"                                     \n",
       " [4] \"Region\"                                           \n",
       " [5] \"Lending.category\"                                 \n",
       " [6] \"Other.groups\"                                     \n",
       " [7] \"Currency.Unit\"                                    \n",
       " [8] \"Latest.population.census\"                         \n",
       " [9] \"Latest.household.survey\"                          \n",
       "[10] \"Special.Notes\"                                    \n",
       "[11] \"National.accounts.base.year\"                      \n",
       "[12] \"National.accounts.reference.year\"                 \n",
       "[13] \"System.of.National.Accounts\"                      \n",
       "[14] \"SNA.price.valuation\"                              \n",
       "[15] \"Alternative.conversion.factor\"                    \n",
       "[16] \"PPP.survey.year\"                                  \n",
       "[17] \"Balance.of.Payments.Manual.in.use\"                \n",
       "[18] \"External.debt.Reporting.status\"                   \n",
       "[19] \"System.of.trade\"                                  \n",
       "[20] \"Government.Accounting.concept\"                    \n",
       "[21] \"IMF.data.dissemination.standard\"                  \n",
       "[22] \"Source.of.most.recent.Income.and.expenditure.data\"\n",
       "[23] \"Vital.registration.complete\"                      \n",
       "[24] \"Latest.agricultural.census\"                       \n",
       "[25] \"Latest.industrial.data\"                           \n",
       "[26] \"Latest.trade.data\"                                \n",
       "[27] \"Latest.water.withdrawal.data\"                     \n",
       "[28] \"X2.alpha.code\"                                    \n",
       "[29] \"WB.2.code\"                                        \n",
       "[30] \"Table.Name\"                                       \n",
       "[31] \"Short.Name\"                                       "
      ]
     },
     "metadata": {},
     "output_type": "display_data"
    }
   ],
   "source": [
    "#Names of Columns\n",
    "print(\"Column Names of gdp.raw Dataset\")\n",
    "names(fedstats.raw)"
   ]
  },
  {
   "cell_type": "code",
   "execution_count": 41,
   "metadata": {
    "collapsed": false,
    "scrolled": false
   },
   "outputs": [
    {
     "data": {
      "text/html": [
       "<table>\n",
       "<thead><tr><th scope=col>CountryCode</th><th scope=col>Long.Name</th><th scope=col>Income.Group</th><th scope=col>Region</th><th scope=col>Lending.category</th><th scope=col>Other.groups</th><th scope=col>Currency.Unit</th><th scope=col>Latest.population.census</th><th scope=col>Latest.household.survey</th><th scope=col>Special.Notes</th><th scope=col>⋯</th><th scope=col>Source.of.most.recent.Income.and.expenditure.data</th><th scope=col>Vital.registration.complete</th><th scope=col>Latest.agricultural.census</th><th scope=col>Latest.industrial.data</th><th scope=col>Latest.trade.data</th><th scope=col>Latest.water.withdrawal.data</th><th scope=col>X2.alpha.code</th><th scope=col>WB.2.code</th><th scope=col>Table.Name</th><th scope=col>Short.Name</th></tr></thead>\n",
       "<tbody>\n",
       "\t<tr><td>ABW                                                                                                                </td><td><span style=white-space:pre-wrap>Aruba                       </span>                                               </td><td>High income: nonOECD                                                                                               </td><td>Latin America &amp; Caribbean                                                                                      </td><td><span style=white-space:pre-wrap>    </span>                                                                       </td><td><span style=white-space:pre-wrap>    </span>                                                                       </td><td>Aruban florin                                                                                                      </td><td><span style=white-space:pre-wrap>2000          </span>                                                             </td><td><span style=white-space:pre-wrap>                        </span>                                                   </td><td><span style=white-space:pre-wrap>                                                                           </span></td><td>⋯                                                                                                                  </td><td><span style=white-space:pre-wrap>          </span>                                                                 </td><td><span style=white-space:pre-wrap>   </span>                                                                        </td><td><span style=white-space:pre-wrap>       </span>                                                                    </td><td><span style=white-space:pre-wrap>  NA</span>                                                                       </td><td>2008                                                                                                               </td><td><span style=white-space:pre-wrap>  NA</span>                                                                       </td><td>AW                                                                                                                 </td><td>AW                                                                                                                 </td><td><span style=white-space:pre-wrap>Aruba               </span>                                                       </td><td><span style=white-space:pre-wrap>Aruba               </span>                                                       </td></tr>\n",
       "\t<tr><td>ADO                                                                                                                </td><td><span style=white-space:pre-wrap>Principality of Andorra     </span>                                               </td><td>High income: nonOECD                                                                                               </td><td><span style=white-space:pre-wrap>Europe &amp; Central Asia     </span>                                             </td><td><span style=white-space:pre-wrap>    </span>                                                                       </td><td><span style=white-space:pre-wrap>    </span>                                                                       </td><td><span style=white-space:pre-wrap>Euro          </span>                                                             </td><td>Register based                                                                                                     </td><td><span style=white-space:pre-wrap>                        </span>                                                   </td><td><span style=white-space:pre-wrap>                                                                           </span></td><td>⋯                                                                                                                  </td><td><span style=white-space:pre-wrap>          </span>                                                                 </td><td>Yes                                                                                                                </td><td><span style=white-space:pre-wrap>       </span>                                                                    </td><td><span style=white-space:pre-wrap>  NA</span>                                                                       </td><td>2006                                                                                                               </td><td><span style=white-space:pre-wrap>  NA</span>                                                                       </td><td>AD                                                                                                                 </td><td>AD                                                                                                                 </td><td><span style=white-space:pre-wrap>Andorra             </span>                                                       </td><td><span style=white-space:pre-wrap>Andorra             </span>                                                       </td></tr>\n",
       "\t<tr><td>AFG                                                                        </td><td>Islamic State of Afghanistan                                               </td><td>Low income                                                                 </td><td>South Asia                                                                 </td><td>IDA                                                                        </td><td>HIPC                                                                       </td><td>Afghan afghani                                                             </td><td>1979                                                                       </td><td>MICS, 2003                                                                 </td><td>Fiscal year end: March 20; reporting period for national accounts data: FY.</td><td>⋯                                                                          </td><td>                                                                           </td><td>                                                                           </td><td>                                                                           </td><td>  NA                                                                       </td><td>2008                                                                       </td><td>2000                                                                       </td><td>AF                                                                         </td><td>AF                                                                         </td><td>Afghanistan                                                                </td><td>Afghanistan                                                                </td></tr>\n",
       "\t<tr><td>AGO                                                                        </td><td>People's Republic of Angola                                                </td><td>Lower middle income                                                        </td><td>Sub-Saharan Africa                                                         </td><td>IDA                                                                        </td><td>                                                                           </td><td>Angolan kwanza                                                             </td><td>1970                                                                       </td><td>MICS, 2001, MIS, 2006/07                                                   </td><td>                                                                           </td><td>⋯                                                                          </td><td>IHS, 2000                                                                  </td><td>                                                                           </td><td>1964-65                                                                    </td><td>  NA                                                                       </td><td>1991                                                                       </td><td>2000                                                                       </td><td>AO                                                                         </td><td>AO                                                                         </td><td>Angola                                                                     </td><td>Angola                                                                     </td></tr>\n",
       "\t<tr><td>ALB                                                                                                                </td><td><span style=white-space:pre-wrap>Republic of Albania         </span>                                               </td><td>Upper middle income                                                                                                </td><td><span style=white-space:pre-wrap>Europe &amp; Central Asia     </span>                                             </td><td>IBRD                                                                                                               </td><td><span style=white-space:pre-wrap>    </span>                                                                       </td><td><span style=white-space:pre-wrap>Albanian lek  </span>                                                             </td><td><span style=white-space:pre-wrap>2001          </span>                                                             </td><td><span style=white-space:pre-wrap>MICS, 2005              </span>                                                   </td><td><span style=white-space:pre-wrap>                                                                           </span></td><td>⋯                                                                                                                  </td><td>LSMS, 2005                                                                                                         </td><td>Yes                                                                                                                </td><td><span style=white-space:pre-wrap>1998   </span>                                                                    </td><td>2005                                                                                                               </td><td>2008                                                                                                               </td><td>2000                                                                                                               </td><td>AL                                                                                                                 </td><td>AL                                                                                                                 </td><td><span style=white-space:pre-wrap>Albania             </span>                                                       </td><td><span style=white-space:pre-wrap>Albania             </span>                                                       </td></tr>\n",
       "\t<tr><td>ARE                                                                                                                </td><td><span style=white-space:pre-wrap>United Arab Emirates        </span>                                               </td><td>High income: nonOECD                                                                                               </td><td>Middle East &amp; North Africa                                                                                     </td><td><span style=white-space:pre-wrap>    </span>                                                                       </td><td><span style=white-space:pre-wrap>    </span>                                                                       </td><td>U.A.E. dirham                                                                                                      </td><td><span style=white-space:pre-wrap>2005          </span>                                                             </td><td><span style=white-space:pre-wrap>                        </span>                                                   </td><td><span style=white-space:pre-wrap>                                                                           </span></td><td>⋯                                                                                                                  </td><td><span style=white-space:pre-wrap>          </span>                                                                 </td><td><span style=white-space:pre-wrap>   </span>                                                                        </td><td><span style=white-space:pre-wrap>1998   </span>                                                                    </td><td><span style=white-space:pre-wrap>  NA</span>                                                                       </td><td>2008                                                                                                               </td><td>2005                                                                                                               </td><td>AE                                                                                                                 </td><td>AE                                                                                                                 </td><td>United Arab Emirates                                                                                               </td><td>United Arab Emirates                                                                                               </td></tr>\n",
       "</tbody>\n",
       "</table>\n"
      ],
      "text/latex": [
       "\\begin{tabular}{r|lllllllllllllllllllllllllllllll}\n",
       " CountryCode & Long.Name & Income.Group & Region & Lending.category & Other.groups & Currency.Unit & Latest.population.census & Latest.household.survey & Special.Notes & ⋯ & Source.of.most.recent.Income.and.expenditure.data & Vital.registration.complete & Latest.agricultural.census & Latest.industrial.data & Latest.trade.data & Latest.water.withdrawal.data & X2.alpha.code & WB.2.code & Table.Name & Short.Name\\\\\n",
       "\\hline\n",
       "\t ABW                                                                         & Aruba                                                                       & High income: nonOECD                                                        & Latin America \\& Caribbean                                                 &                                                                             &                                                                             & Aruban florin                                                               & 2000                                                                        &                                                                             &                                                                             & ⋯                                                                           &                                                                             &                                                                             &                                                                             &   NA                                                                        & 2008                                                                        &   NA                                                                        & AW                                                                          & AW                                                                          & Aruba                                                                       & Aruba                                                                      \\\\\n",
       "\t ADO                                                                         & Principality of Andorra                                                     & High income: nonOECD                                                        & Europe \\& Central Asia                                                     &                                                                             &                                                                             & Euro                                                                        & Register based                                                              &                                                                             &                                                                             & ⋯                                                                           &                                                                             & Yes                                                                         &                                                                             &   NA                                                                        & 2006                                                                        &   NA                                                                        & AD                                                                          & AD                                                                          & Andorra                                                                     & Andorra                                                                    \\\\\n",
       "\t AFG                                                                         & Islamic State of Afghanistan                                                & Low income                                                                  & South Asia                                                                  & IDA                                                                         & HIPC                                                                        & Afghan afghani                                                              & 1979                                                                        & MICS, 2003                                                                  & Fiscal year end: March 20; reporting period for national accounts data: FY. & ⋯                                                                           &                                                                             &                                                                             &                                                                             &   NA                                                                        & 2008                                                                        & 2000                                                                        & AF                                                                          & AF                                                                          & Afghanistan                                                                 & Afghanistan                                                                \\\\\n",
       "\t AGO                                                                         & People's Republic of Angola                                                 & Lower middle income                                                         & Sub-Saharan Africa                                                          & IDA                                                                         &                                                                             & Angolan kwanza                                                              & 1970                                                                        & MICS, 2001, MIS, 2006/07                                                    &                                                                             & ⋯                                                                           & IHS, 2000                                                                   &                                                                             & 1964-65                                                                     &   NA                                                                        & 1991                                                                        & 2000                                                                        & AO                                                                          & AO                                                                          & Angola                                                                      & Angola                                                                     \\\\\n",
       "\t ALB                                                                         & Republic of Albania                                                         & Upper middle income                                                         & Europe \\& Central Asia                                                     & IBRD                                                                        &                                                                             & Albanian lek                                                                & 2001                                                                        & MICS, 2005                                                                  &                                                                             & ⋯                                                                           & LSMS, 2005                                                                  & Yes                                                                         & 1998                                                                        & 2005                                                                        & 2008                                                                        & 2000                                                                        & AL                                                                          & AL                                                                          & Albania                                                                     & Albania                                                                    \\\\\n",
       "\t ARE                                                                         & United Arab Emirates                                                        & High income: nonOECD                                                        & Middle East \\& North Africa                                                &                                                                             &                                                                             & U.A.E. dirham                                                               & 2005                                                                        &                                                                             &                                                                             & ⋯                                                                           &                                                                             &                                                                             & 1998                                                                        &   NA                                                                        & 2008                                                                        & 2005                                                                        & AE                                                                          & AE                                                                          & United Arab Emirates                                                        & United Arab Emirates                                                       \\\\\n",
       "\\end{tabular}\n"
      ],
      "text/plain": [
       "  CountryCode Long.Name                    Income.Group        \n",
       "1 ABW         Aruba                        High income: nonOECD\n",
       "2 ADO         Principality of Andorra      High income: nonOECD\n",
       "3 AFG         Islamic State of Afghanistan Low income          \n",
       "4 AGO         People's Republic of Angola  Lower middle income \n",
       "5 ALB         Republic of Albania          Upper middle income \n",
       "6 ARE         United Arab Emirates         High income: nonOECD\n",
       "  Region                     Lending.category Other.groups Currency.Unit \n",
       "1 Latin America & Caribbean                                Aruban florin \n",
       "2 Europe & Central Asia                                    Euro          \n",
       "3 South Asia                 IDA              HIPC         Afghan afghani\n",
       "4 Sub-Saharan Africa         IDA                           Angolan kwanza\n",
       "5 Europe & Central Asia      IBRD                          Albanian lek  \n",
       "6 Middle East & North Africa                               U.A.E. dirham \n",
       "  Latest.population.census Latest.household.survey \n",
       "1 2000                                             \n",
       "2 Register based                                   \n",
       "3 1979                     MICS, 2003              \n",
       "4 1970                     MICS, 2001, MIS, 2006/07\n",
       "5 2001                     MICS, 2005              \n",
       "6 2005                                             \n",
       "  Special.Notes                                                               ⋯\n",
       "1                                                                             ⋯\n",
       "2                                                                             ⋯\n",
       "3 Fiscal year end: March 20; reporting period for national accounts data: FY. ⋯\n",
       "4                                                                             ⋯\n",
       "5                                                                             ⋯\n",
       "6                                                                             ⋯\n",
       "  Source.of.most.recent.Income.and.expenditure.data Vital.registration.complete\n",
       "1                                                                              \n",
       "2                                                   Yes                        \n",
       "3                                                                              \n",
       "4 IHS, 2000                                                                    \n",
       "5 LSMS, 2005                                        Yes                        \n",
       "6                                                                              \n",
       "  Latest.agricultural.census Latest.industrial.data Latest.trade.data\n",
       "1                              NA                   2008             \n",
       "2                              NA                   2006             \n",
       "3                              NA                   2008             \n",
       "4 1964-65                      NA                   1991             \n",
       "5 1998                       2005                   2008             \n",
       "6 1998                         NA                   2008             \n",
       "  Latest.water.withdrawal.data X2.alpha.code WB.2.code Table.Name          \n",
       "1   NA                         AW            AW        Aruba               \n",
       "2   NA                         AD            AD        Andorra             \n",
       "3 2000                         AF            AF        Afghanistan         \n",
       "4 2000                         AO            AO        Angola              \n",
       "5 2000                         AL            AL        Albania             \n",
       "6 2005                         AE            AE        United Arab Emirates\n",
       "  Short.Name          \n",
       "1 Aruba               \n",
       "2 Andorra             \n",
       "3 Afghanistan         \n",
       "4 Angola              \n",
       "5 Albania             \n",
       "6 United Arab Emirates"
      ]
     },
     "metadata": {},
     "output_type": "display_data"
    }
   ],
   "source": [
    "head(fedstats.raw)"
   ]
  },
  {
   "cell_type": "code",
   "execution_count": 32,
   "metadata": {
    "collapsed": true
   },
   "outputs": [],
   "source": [
    "#Load Data GDP Dataset\n",
    "gdp.raw <- read.csv(\"../Data/FGDP.csv\",header=TRUE,skip=3)"
   ]
  },
  {
   "cell_type": "code",
   "execution_count": 33,
   "metadata": {
    "collapsed": false
   },
   "outputs": [],
   "source": [
    "#Check Data\n",
    "#str(gdp.raw)"
   ]
  },
  {
   "cell_type": "code",
   "execution_count": 34,
   "metadata": {
    "collapsed": false
   },
   "outputs": [
    {
     "name": "stdout",
     "output_type": "stream",
     "text": [
      "[1] \"Column Names of gdp.raw Dataset\"\n"
     ]
    },
    {
     "data": {
      "text/html": [
       "<ol class=list-inline>\n",
       "\t<li>'X'</li>\n",
       "\t<li>'Ranking'</li>\n",
       "\t<li>'X.1'</li>\n",
       "\t<li>'Economy'</li>\n",
       "\t<li>'US.dollars.'</li>\n",
       "\t<li>'X.2'</li>\n",
       "\t<li>'X.3'</li>\n",
       "\t<li>'X.4'</li>\n",
       "\t<li>'X.5'</li>\n",
       "\t<li>'X.6'</li>\n",
       "</ol>\n"
      ],
      "text/latex": [
       "\\begin{enumerate*}\n",
       "\\item 'X'\n",
       "\\item 'Ranking'\n",
       "\\item 'X.1'\n",
       "\\item 'Economy'\n",
       "\\item 'US.dollars.'\n",
       "\\item 'X.2'\n",
       "\\item 'X.3'\n",
       "\\item 'X.4'\n",
       "\\item 'X.5'\n",
       "\\item 'X.6'\n",
       "\\end{enumerate*}\n"
      ],
      "text/markdown": [
       "1. 'X'\n",
       "2. 'Ranking'\n",
       "3. 'X.1'\n",
       "4. 'Economy'\n",
       "5. 'US.dollars.'\n",
       "6. 'X.2'\n",
       "7. 'X.3'\n",
       "8. 'X.4'\n",
       "9. 'X.5'\n",
       "10. 'X.6'\n",
       "\n",
       "\n"
      ],
      "text/plain": [
       " [1] \"X\"           \"Ranking\"     \"X.1\"         \"Economy\"     \"US.dollars.\"\n",
       " [6] \"X.2\"         \"X.3\"         \"X.4\"         \"X.5\"         \"X.6\"        "
      ]
     },
     "metadata": {},
     "output_type": "display_data"
    }
   ],
   "source": [
    "#Names of Columns\n",
    "print(\"Column Names of gdp.raw Dataset\")\n",
    "names(gdp.raw)"
   ]
  },
  {
   "cell_type": "code",
   "execution_count": 46,
   "metadata": {
    "collapsed": false
   },
   "outputs": [
    {
     "ename": "ERROR",
     "evalue": "Error in `[<-.data.frame`(`*tmp*`, 6:10, value = NULL): new columns would leave holes after existing columns\n",
     "output_type": "error",
     "traceback": [
      "Error in `[<-.data.frame`(`*tmp*`, 6:10, value = NULL): new columns would leave holes after existing columns\nTraceback:\n",
      "1. `[<-`(`*tmp*`, 6:10, value = NULL)",
      "2. `[<-.data.frame`(`*tmp*`, 6:10, value = NULL)",
      "3. stop(\"new columns would leave holes after existing columns\")"
     ]
    }
   ],
   "source": [
    "#Edit Raw GDP\n",
    "#Drop Columns\n",
    "gdp <- gdp.raw[6:10] <-NULL\n",
    "gdp <- gdp.raw[[3]] <- NULL"
   ]
  },
  {
   "cell_type": "code",
   "execution_count": 55,
   "metadata": {
    "collapsed": false
   },
   "outputs": [],
   "source": [
    "#Delete Rows at End of Dataset\n",
    "gdp <- gdp[-c(238,239,240,241)]\n",
    "str(gdp)"
   ]
  },
  {
   "cell_type": "code",
   "execution_count": 40,
   "metadata": {
    "collapsed": false
   },
   "outputs": [
    {
     "data": {
      "text/html": [
       "<table>\n",
       "<thead><tr><th scope=col>CountryCode</th><th scope=col>Ranking</th><th scope=col>Economy</th><th scope=col>US.dollars.</th></tr></thead>\n",
       "<tbody>\n",
       "\t<tr><td>             </td><td>             </td><td>             </td><td>             </td></tr>\n",
       "\t<tr><td>USA          </td><td>1            </td><td>United States</td><td> 16,244,600  </td></tr>\n",
       "\t<tr><td>CHN          </td><td>2            </td><td>China        </td><td> 8,227,103   </td></tr>\n",
       "\t<tr><td>JPN          </td><td>3            </td><td>Japan        </td><td> 5,959,718   </td></tr>\n",
       "\t<tr><td>DEU          </td><td>4            </td><td>Germany      </td><td> 3,428,131   </td></tr>\n",
       "\t<tr><td>FRA          </td><td>5            </td><td>France       </td><td> 2,612,878   </td></tr>\n",
       "</tbody>\n",
       "</table>\n"
      ],
      "text/latex": [
       "\\begin{tabular}{r|llll}\n",
       " CountryCode & Ranking & Economy & US.dollars.\\\\\n",
       "\\hline\n",
       "\t               &               &               &              \\\\\n",
       "\t USA           & 1             & United States &  16,244,600  \\\\\n",
       "\t CHN           & 2             & China         &  8,227,103   \\\\\n",
       "\t JPN           & 3             & Japan         &  5,959,718   \\\\\n",
       "\t DEU           & 4             & Germany       &  3,428,131   \\\\\n",
       "\t FRA           & 5             & France        &  2,612,878   \\\\\n",
       "\\end{tabular}\n"
      ],
      "text/plain": [
       "  CountryCode Ranking Economy       US.dollars. \n",
       "1                                               \n",
       "2 USA         1       United States  16,244,600 \n",
       "3 CHN         2       China          8,227,103  \n",
       "4 JPN         3       Japan          5,959,718  \n",
       "5 DEU         4       Germany        3,428,131  \n",
       "6 FRA         5       France         2,612,878  "
      ]
     },
     "metadata": {},
     "output_type": "display_data"
    }
   ],
   "source": [
    "#Rename Column\n",
    "gdp <- rename(gdp.raw,c(\"X\"=\"CountryCode\"))\n",
    "head(gdp)"
   ]
  },
  {
   "cell_type": "code",
   "execution_count": 74,
   "metadata": {
    "collapsed": false
   },
   "outputs": [
    {
     "data": {
      "text/html": [
       "<table>\n",
       "<thead><tr><th scope=col>CountryCode</th><th scope=col>Ranking</th><th scope=col>Economy</th><th scope=col>US.dollars.</th><th scope=col>Long.Name</th><th scope=col>Income.Group</th><th scope=col>Region</th><th scope=col>Lending.category</th><th scope=col>Other.groups</th><th scope=col>Currency.Unit</th><th scope=col>⋯</th><th scope=col>Source.of.most.recent.Income.and.expenditure.data</th><th scope=col>Vital.registration.complete</th><th scope=col>Latest.agricultural.census</th><th scope=col>Latest.industrial.data</th><th scope=col>Latest.trade.data</th><th scope=col>Latest.water.withdrawal.data</th><th scope=col>X2.alpha.code</th><th scope=col>WB.2.code</th><th scope=col>Table.Name</th><th scope=col>Short.Name</th></tr></thead>\n",
       "<tbody>\n",
       "\t<tr><td>ABW                                                                 </td><td>161                                                                 </td><td><span style=white-space:pre-wrap>Aruba               </span>        </td><td><span style=white-space:pre-wrap> 2,584   </span>                   </td><td><span style=white-space:pre-wrap>Aruba                       </span></td><td>High income: nonOECD                                                </td><td>Latin America &amp; Caribbean                                       </td><td><span style=white-space:pre-wrap>    </span>                        </td><td><span style=white-space:pre-wrap>    </span>                        </td><td>Aruban florin                                                       </td><td>⋯                                                                   </td><td><span style=white-space:pre-wrap>          </span>                  </td><td><span style=white-space:pre-wrap>   </span>                         </td><td><span style=white-space:pre-wrap>       </span>                     </td><td><span style=white-space:pre-wrap>  NA</span>                        </td><td>2008                                                                </td><td><span style=white-space:pre-wrap>  NA</span>                        </td><td>AW                                                                  </td><td>AW                                                                  </td><td><span style=white-space:pre-wrap>Aruba               </span>        </td><td><span style=white-space:pre-wrap>Aruba               </span>        </td></tr>\n",
       "\t<tr><td>ADO                                                                   </td><td><span style=white-space:pre-wrap>   </span>                           </td><td><span style=white-space:pre-wrap>Andorra             </span>          </td><td><span style=white-space:pre-wrap>..       </span>                     </td><td><span style=white-space:pre-wrap>Principality of Andorra     </span>  </td><td>High income: nonOECD                                                  </td><td><span style=white-space:pre-wrap>Europe &amp; Central Asia     </span></td><td><span style=white-space:pre-wrap>    </span>                          </td><td><span style=white-space:pre-wrap>    </span>                          </td><td><span style=white-space:pre-wrap>Euro          </span>                </td><td>⋯                                                                     </td><td><span style=white-space:pre-wrap>          </span>                    </td><td>Yes                                                                   </td><td><span style=white-space:pre-wrap>       </span>                       </td><td><span style=white-space:pre-wrap>  NA</span>                          </td><td>2006                                                                  </td><td><span style=white-space:pre-wrap>  NA</span>                          </td><td>AD                                                                    </td><td>AD                                                                    </td><td><span style=white-space:pre-wrap>Andorra             </span>          </td><td><span style=white-space:pre-wrap>Andorra             </span>          </td></tr>\n",
       "\t<tr><td>AFG                         </td><td>105                         </td><td>Afghanistan                 </td><td> 20,497                     </td><td>Islamic State of Afghanistan</td><td>Low income                  </td><td>South Asia                  </td><td>IDA                         </td><td>HIPC                        </td><td>Afghan afghani              </td><td>⋯                           </td><td>                            </td><td>                            </td><td>                            </td><td>  NA                        </td><td>2008                        </td><td>2000                        </td><td>AF                          </td><td>AF                          </td><td>Afghanistan                 </td><td>Afghanistan                 </td></tr>\n",
       "\t<tr><td>AGO                         </td><td>60                          </td><td>Angola                      </td><td> 114,147                    </td><td>People's Republic of Angola </td><td>Lower middle income         </td><td>Sub-Saharan Africa          </td><td>IDA                         </td><td>                            </td><td>Angolan kwanza              </td><td>⋯                           </td><td>IHS, 2000                   </td><td>                            </td><td>1964-65                     </td><td>  NA                        </td><td>1991                        </td><td>2000                        </td><td>AO                          </td><td>AO                          </td><td>Angola                      </td><td>Angola                      </td></tr>\n",
       "\t<tr><td>ALB                                                                   </td><td>125                                                                   </td><td><span style=white-space:pre-wrap>Albania             </span>          </td><td><span style=white-space:pre-wrap> 12,648  </span>                     </td><td><span style=white-space:pre-wrap>Republic of Albania         </span>  </td><td>Upper middle income                                                   </td><td><span style=white-space:pre-wrap>Europe &amp; Central Asia     </span></td><td>IBRD                                                                  </td><td><span style=white-space:pre-wrap>    </span>                          </td><td><span style=white-space:pre-wrap>Albanian lek  </span>                </td><td>⋯                                                                     </td><td>LSMS, 2005                                                            </td><td>Yes                                                                   </td><td><span style=white-space:pre-wrap>1998   </span>                       </td><td>2005                                                                  </td><td>2008                                                                  </td><td>2000                                                                  </td><td>AL                                                                    </td><td>AL                                                                    </td><td><span style=white-space:pre-wrap>Albania             </span>          </td><td><span style=white-space:pre-wrap>Albania             </span>          </td></tr>\n",
       "\t<tr><td>ARE                                                                 </td><td>32                                                                  </td><td>United Arab Emirates                                                </td><td> 348,595                                                            </td><td><span style=white-space:pre-wrap>United Arab Emirates        </span></td><td>High income: nonOECD                                                </td><td>Middle East &amp; North Africa                                      </td><td><span style=white-space:pre-wrap>    </span>                        </td><td><span style=white-space:pre-wrap>    </span>                        </td><td>U.A.E. dirham                                                       </td><td>⋯                                                                   </td><td><span style=white-space:pre-wrap>          </span>                  </td><td><span style=white-space:pre-wrap>   </span>                         </td><td><span style=white-space:pre-wrap>1998   </span>                     </td><td><span style=white-space:pre-wrap>  NA</span>                        </td><td>2008                                                                </td><td>2005                                                                </td><td>AE                                                                  </td><td>AE                                                                  </td><td>United Arab Emirates                                                </td><td>United Arab Emirates                                                </td></tr>\n",
       "</tbody>\n",
       "</table>\n"
      ],
      "text/latex": [
       "\\begin{tabular}{r|llllllllllllllllllllllllllllllllll}\n",
       " CountryCode & Ranking & Economy & US.dollars. & Long.Name & Income.Group & Region & Lending.category & Other.groups & Currency.Unit & ⋯ & Source.of.most.recent.Income.and.expenditure.data & Vital.registration.complete & Latest.agricultural.census & Latest.industrial.data & Latest.trade.data & Latest.water.withdrawal.data & X2.alpha.code & WB.2.code & Table.Name & Short.Name\\\\\n",
       "\\hline\n",
       "\t ABW                          & 161                          & Aruba                        &  2,584                       & Aruba                        & High income: nonOECD         & Latin America \\& Caribbean  &                              &                              & Aruban florin                & ⋯                            &                              &                              &                              &   NA                         & 2008                         &   NA                         & AW                           & AW                           & Aruba                        & Aruba                       \\\\\n",
       "\t ADO                          &                              & Andorra                      & ..                           & Principality of Andorra      & High income: nonOECD         & Europe \\& Central Asia      &                              &                              & Euro                         & ⋯                            &                              & Yes                          &                              &   NA                         & 2006                         &   NA                         & AD                           & AD                           & Andorra                      & Andorra                     \\\\\n",
       "\t AFG                          & 105                          & Afghanistan                  &  20,497                      & Islamic State of Afghanistan & Low income                   & South Asia                   & IDA                          & HIPC                         & Afghan afghani               & ⋯                            &                              &                              &                              &   NA                         & 2008                         & 2000                         & AF                           & AF                           & Afghanistan                  & Afghanistan                 \\\\\n",
       "\t AGO                          & 60                           & Angola                       &  114,147                     & People's Republic of Angola  & Lower middle income          & Sub-Saharan Africa           & IDA                          &                              & Angolan kwanza               & ⋯                            & IHS, 2000                    &                              & 1964-65                      &   NA                         & 1991                         & 2000                         & AO                           & AO                           & Angola                       & Angola                      \\\\\n",
       "\t ALB                          & 125                          & Albania                      &  12,648                      & Republic of Albania          & Upper middle income          & Europe \\& Central Asia      & IBRD                         &                              & Albanian lek                 & ⋯                            & LSMS, 2005                   & Yes                          & 1998                         & 2005                         & 2008                         & 2000                         & AL                           & AL                           & Albania                      & Albania                     \\\\\n",
       "\t ARE                          & 32                           & United Arab Emirates         &  348,595                     & United Arab Emirates         & High income: nonOECD         & Middle East \\& North Africa &                              &                              & U.A.E. dirham                & ⋯                            &                              &                              & 1998                         &   NA                         & 2008                         & 2005                         & AE                           & AE                           & United Arab Emirates         & United Arab Emirates        \\\\\n",
       "\\end{tabular}\n"
      ],
      "text/plain": [
       "  CountryCode Ranking Economy              US.dollars.\n",
       "1 ABW         161     Aruba                 2,584     \n",
       "2 ADO                 Andorra              ..         \n",
       "3 AFG         105     Afghanistan           20,497    \n",
       "4 AGO         60      Angola                114,147   \n",
       "5 ALB         125     Albania               12,648    \n",
       "6 ARE         32      United Arab Emirates  348,595   \n",
       "  Long.Name                    Income.Group         Region                    \n",
       "1 Aruba                        High income: nonOECD Latin America & Caribbean \n",
       "2 Principality of Andorra      High income: nonOECD Europe & Central Asia     \n",
       "3 Islamic State of Afghanistan Low income           South Asia                \n",
       "4 People's Republic of Angola  Lower middle income  Sub-Saharan Africa        \n",
       "5 Republic of Albania          Upper middle income  Europe & Central Asia     \n",
       "6 United Arab Emirates         High income: nonOECD Middle East & North Africa\n",
       "  Lending.category Other.groups Currency.Unit  ⋯\n",
       "1                               Aruban florin  ⋯\n",
       "2                               Euro           ⋯\n",
       "3 IDA              HIPC         Afghan afghani ⋯\n",
       "4 IDA                           Angolan kwanza ⋯\n",
       "5 IBRD                          Albanian lek   ⋯\n",
       "6                               U.A.E. dirham  ⋯\n",
       "  Source.of.most.recent.Income.and.expenditure.data Vital.registration.complete\n",
       "1                                                                              \n",
       "2                                                   Yes                        \n",
       "3                                                                              \n",
       "4 IHS, 2000                                                                    \n",
       "5 LSMS, 2005                                        Yes                        \n",
       "6                                                                              \n",
       "  Latest.agricultural.census Latest.industrial.data Latest.trade.data\n",
       "1                              NA                   2008             \n",
       "2                              NA                   2006             \n",
       "3                              NA                   2008             \n",
       "4 1964-65                      NA                   1991             \n",
       "5 1998                       2005                   2008             \n",
       "6 1998                         NA                   2008             \n",
       "  Latest.water.withdrawal.data X2.alpha.code WB.2.code Table.Name          \n",
       "1   NA                         AW            AW        Aruba               \n",
       "2   NA                         AD            AD        Andorra             \n",
       "3 2000                         AF            AF        Afghanistan         \n",
       "4 2000                         AO            AO        Angola              \n",
       "5 2000                         AL            AL        Albania             \n",
       "6 2005                         AE            AE        United Arab Emirates\n",
       "  Short.Name          \n",
       "1 Aruba               \n",
       "2 Andorra             \n",
       "3 Afghanistan         \n",
       "4 Angola              \n",
       "5 Albania             \n",
       "6 United Arab Emirates"
      ]
     },
     "metadata": {},
     "output_type": "display_data"
    }
   ],
   "source": [
    "#merge data on country shortcode\n",
    "merge.gdp.fedstats <- merge(gdp,fedstats.raw,by=\"CountryCode\")\n",
    "head(merge.gdp.fedstats)"
   ]
  },
  {
   "cell_type": "code",
   "execution_count": null,
   "metadata": {
    "collapsed": true
   },
   "outputs": [],
   "source": []
  }
 ],
 "metadata": {
  "kernelspec": {
   "display_name": "R",
   "language": "R",
   "name": "ir"
  },
  "language_info": {
   "codemirror_mode": "r",
   "file_extension": ".r",
   "mimetype": "text/x-r-source",
   "name": "R",
   "pygments_lexer": "r",
   "version": "3.3.1"
  }
 },
 "nbformat": 4,
 "nbformat_minor": 1
}
